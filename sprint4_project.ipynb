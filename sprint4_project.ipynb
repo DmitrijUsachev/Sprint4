{
 "cells": [
  {
   "cell_type": "markdown",
   "id": "bb98bc2e",
   "metadata": {},
   "source": [
    "# 1. Постановка задачи"
   ]
  },
  {
   "cell_type": "markdown",
   "id": "8645526a",
   "metadata": {},
   "source": [
    "Требуется выполнить анализ данных некоторых пользователях из нескольких городов, а также об их поездках сервиса аренды самокатов GoFast Проанализировать данные и проверить некоторые гипотезы, которые могут помочь бизнесу вырасти."
   ]
  },
  {
   "cell_type": "markdown",
   "id": "87d04929",
   "metadata": {},
   "source": [
    "Чтобы совершать поездки по городу, пользователи сервиса GoFast пользуются мобильным приложением. Сервисом можно пользоваться:  \n",
    "   - без подписки:  \n",
    "            абонентская плата отсутствует;\n",
    "            стоимость одной минуты поездки — 8 рублей;\n",
    "            стоимость старта (начала поездки) — 50 рублей;\n",
    "\n",
    "\n",
    "   - с подпиской Ultra: \n",
    "            абонентская плата — 199 рублей в месяц;\n",
    "            стоимость одной минуты поездки — 6 рублей;\n",
    "            стоимость старта — бесплатно."
   ]
  },
  {
   "cell_type": "markdown",
   "id": "99ac159f",
   "metadata": {},
   "source": [
    "**Описание данных**  "
   ]
  },
  {
   "cell_type": "markdown",
   "id": "78f12afd",
   "metadata": {},
   "source": [
    "В основных данных есть информация о пользователях, их поездках и подписках.\n",
    "\n",
    "**Пользователи — users_go.csv**    \n",
    "  \n",
    "user_id\t- уникальный идентификатор пользователя  \n",
    "name - имя пользователя  \n",
    "age - возраст  \n",
    "city - город  \n",
    "subscription_type - тип подписки (free, ultra)  "
   ]
  },
  {
   "cell_type": "markdown",
   "id": "5acb8b6f",
   "metadata": {},
   "source": [
    "**Поездки — rides_go.csv**\n",
    "\n",
    "user_id - уникальный идентификатор пользователя  \n",
    "distance - расстояние, которое пользователь проехал в текущей сессии (в метрах)  \n",
    "duration - продолжительность сессии (в минутах) — время с того момента, как пользователь нажал кнопку «Начать поездку» до момента, как он нажал кнопку «Завершить поездку»  \n",
    "date - дата совершения поездки  "
   ]
  },
  {
   "cell_type": "markdown",
   "id": "892fe5be",
   "metadata": {},
   "source": [
    "**Подписки — subscriptions_go.csv**  \n",
    "\n",
    "subscription_type - тип подписки  \n",
    "minute_price-стоимость одной минуты поездки по данной подписке  \n",
    "start_ride_price-стоимость начала поездки  \n",
    "subscription_fee-стоимость ежемесячного платежа  "
   ]
  },
  {
   "cell_type": "markdown",
   "id": "c30de4c6",
   "metadata": {},
   "source": [
    "# 2. Загрузка данных"
   ]
  },
  {
   "cell_type": "markdown",
   "id": "4d41669b",
   "metadata": {},
   "source": [
    "## 2.1. Импорт данных"
   ]
  },
  {
   "cell_type": "code",
   "execution_count": 1,
   "id": "4002d213",
   "metadata": {},
   "outputs": [],
   "source": [
    "import pandas as pd\n",
    "import matplotlib.pyplot as plt\n",
    "import seaborn as sns\n",
    "import numpy as np\n",
    "from scipy import stats as st"
   ]
  },
  {
   "cell_type": "code",
   "execution_count": 2,
   "id": "668fa8d8",
   "metadata": {},
   "outputs": [],
   "source": [
    "def read_df(pth1:str, pth2:str) -> pd.DataFrame:\n",
    "    try:\n",
    "        df = pd.read_csv(pth1)\n",
    "    except OSError as e:\n",
    "        df = pd.read_csv(pth2)     \n",
    "    return df"
   ]
  },
  {
   "cell_type": "code",
   "execution_count": 3,
   "id": "aa684dcf",
   "metadata": {},
   "outputs": [],
   "source": [
    "pth1 = 'datasets/users_go.csv'\n",
    "pth2 = 'https://code.s3.yandex.net/datasets/users_go.csv' \n",
    "users_go =  read_df(pth1,pth2)"
   ]
  },
  {
   "cell_type": "code",
   "execution_count": 4,
   "id": "1a113875",
   "metadata": {},
   "outputs": [],
   "source": [
    "pth1 = 'datasets/rides_go.csv'\n",
    "pth2 = 'https://code.s3.yandex.net/datasets/rides_go.csv' \n",
    "rides_go =  read_df(pth1,pth2)"
   ]
  },
  {
   "cell_type": "code",
   "execution_count": 5,
   "id": "671fa647",
   "metadata": {},
   "outputs": [],
   "source": [
    "pth1 = 'datasets/subscriptions_go.csv'\n",
    "pth2 = 'https://code.s3.yandex.net/datasets/subscriptions_go.csv' \n",
    "subscriptions_go = read_df(pth1,pth2)"
   ]
  },
  {
   "cell_type": "markdown",
   "id": "f2c9171c",
   "metadata": {},
   "source": [
    "## 2.2. Анализ данных"
   ]
  },
  {
   "cell_type": "code",
   "execution_count": 6,
   "id": "6b59d3f7",
   "metadata": {},
   "outputs": [
    {
     "name": "stdout",
     "output_type": "stream",
     "text": [
      "<class 'pandas.core.frame.DataFrame'>\n",
      "RangeIndex: 1565 entries, 0 to 1564\n",
      "Data columns (total 5 columns):\n",
      " #   Column             Non-Null Count  Dtype \n",
      "---  ------             --------------  ----- \n",
      " 0   user_id            1565 non-null   int64 \n",
      " 1   name               1565 non-null   object\n",
      " 2   age                1565 non-null   int64 \n",
      " 3   city               1565 non-null   object\n",
      " 4   subscription_type  1565 non-null   object\n",
      "dtypes: int64(2), object(3)\n",
      "memory usage: 61.3+ KB\n"
     ]
    },
    {
     "data": {
      "text/html": [
       "<div>\n",
       "<style scoped>\n",
       "    .dataframe tbody tr th:only-of-type {\n",
       "        vertical-align: middle;\n",
       "    }\n",
       "\n",
       "    .dataframe tbody tr th {\n",
       "        vertical-align: top;\n",
       "    }\n",
       "\n",
       "    .dataframe thead th {\n",
       "        text-align: right;\n",
       "    }\n",
       "</style>\n",
       "<table border=\"1\" class=\"dataframe\">\n",
       "  <thead>\n",
       "    <tr style=\"text-align: right;\">\n",
       "      <th></th>\n",
       "      <th>user_id</th>\n",
       "      <th>name</th>\n",
       "      <th>age</th>\n",
       "      <th>city</th>\n",
       "      <th>subscription_type</th>\n",
       "    </tr>\n",
       "  </thead>\n",
       "  <tbody>\n",
       "    <tr>\n",
       "      <th>0</th>\n",
       "      <td>1</td>\n",
       "      <td>Кира</td>\n",
       "      <td>22</td>\n",
       "      <td>Тюмень</td>\n",
       "      <td>ultra</td>\n",
       "    </tr>\n",
       "    <tr>\n",
       "      <th>1</th>\n",
       "      <td>2</td>\n",
       "      <td>Станислав</td>\n",
       "      <td>31</td>\n",
       "      <td>Омск</td>\n",
       "      <td>ultra</td>\n",
       "    </tr>\n",
       "    <tr>\n",
       "      <th>2</th>\n",
       "      <td>3</td>\n",
       "      <td>Алексей</td>\n",
       "      <td>20</td>\n",
       "      <td>Москва</td>\n",
       "      <td>ultra</td>\n",
       "    </tr>\n",
       "    <tr>\n",
       "      <th>3</th>\n",
       "      <td>4</td>\n",
       "      <td>Константин</td>\n",
       "      <td>26</td>\n",
       "      <td>Ростов-на-Дону</td>\n",
       "      <td>ultra</td>\n",
       "    </tr>\n",
       "    <tr>\n",
       "      <th>4</th>\n",
       "      <td>5</td>\n",
       "      <td>Адель</td>\n",
       "      <td>28</td>\n",
       "      <td>Омск</td>\n",
       "      <td>ultra</td>\n",
       "    </tr>\n",
       "    <tr>\n",
       "      <th>5</th>\n",
       "      <td>6</td>\n",
       "      <td>Регина</td>\n",
       "      <td>25</td>\n",
       "      <td>Краснодар</td>\n",
       "      <td>ultra</td>\n",
       "    </tr>\n",
       "    <tr>\n",
       "      <th>6</th>\n",
       "      <td>7</td>\n",
       "      <td>Игорь</td>\n",
       "      <td>23</td>\n",
       "      <td>Омск</td>\n",
       "      <td>ultra</td>\n",
       "    </tr>\n",
       "    <tr>\n",
       "      <th>7</th>\n",
       "      <td>8</td>\n",
       "      <td>Юрий</td>\n",
       "      <td>23</td>\n",
       "      <td>Краснодар</td>\n",
       "      <td>ultra</td>\n",
       "    </tr>\n",
       "    <tr>\n",
       "      <th>8</th>\n",
       "      <td>9</td>\n",
       "      <td>Ян</td>\n",
       "      <td>21</td>\n",
       "      <td>Пятигорск</td>\n",
       "      <td>ultra</td>\n",
       "    </tr>\n",
       "    <tr>\n",
       "      <th>9</th>\n",
       "      <td>10</td>\n",
       "      <td>Валерий</td>\n",
       "      <td>18</td>\n",
       "      <td>Екатеринбург</td>\n",
       "      <td>ultra</td>\n",
       "    </tr>\n",
       "  </tbody>\n",
       "</table>\n",
       "</div>"
      ],
      "text/plain": [
       "   user_id        name  age            city subscription_type\n",
       "0        1        Кира   22          Тюмень             ultra\n",
       "1        2   Станислав   31            Омск             ultra\n",
       "2        3     Алексей   20          Москва             ultra\n",
       "3        4  Константин   26  Ростов-на-Дону             ultra\n",
       "4        5       Адель   28            Омск             ultra\n",
       "5        6      Регина   25       Краснодар             ultra\n",
       "6        7       Игорь   23            Омск             ultra\n",
       "7        8        Юрий   23       Краснодар             ultra\n",
       "8        9          Ян   21       Пятигорск             ultra\n",
       "9       10     Валерий   18    Екатеринбург             ultra"
      ]
     },
     "execution_count": 6,
     "metadata": {},
     "output_type": "execute_result"
    }
   ],
   "source": [
    "users_go.info()\n",
    "users_go.head(10)"
   ]
  },
  {
   "cell_type": "code",
   "execution_count": 7,
   "id": "8b8e93b5",
   "metadata": {},
   "outputs": [
    {
     "name": "stdout",
     "output_type": "stream",
     "text": [
      "<class 'pandas.core.frame.DataFrame'>\n",
      "RangeIndex: 18068 entries, 0 to 18067\n",
      "Data columns (total 4 columns):\n",
      " #   Column    Non-Null Count  Dtype  \n",
      "---  ------    --------------  -----  \n",
      " 0   user_id   18068 non-null  int64  \n",
      " 1   distance  18068 non-null  float64\n",
      " 2   duration  18068 non-null  float64\n",
      " 3   date      18068 non-null  object \n",
      "dtypes: float64(2), int64(1), object(1)\n",
      "memory usage: 564.8+ KB\n"
     ]
    },
    {
     "data": {
      "text/html": [
       "<div>\n",
       "<style scoped>\n",
       "    .dataframe tbody tr th:only-of-type {\n",
       "        vertical-align: middle;\n",
       "    }\n",
       "\n",
       "    .dataframe tbody tr th {\n",
       "        vertical-align: top;\n",
       "    }\n",
       "\n",
       "    .dataframe thead th {\n",
       "        text-align: right;\n",
       "    }\n",
       "</style>\n",
       "<table border=\"1\" class=\"dataframe\">\n",
       "  <thead>\n",
       "    <tr style=\"text-align: right;\">\n",
       "      <th></th>\n",
       "      <th>user_id</th>\n",
       "      <th>distance</th>\n",
       "      <th>duration</th>\n",
       "      <th>date</th>\n",
       "    </tr>\n",
       "  </thead>\n",
       "  <tbody>\n",
       "    <tr>\n",
       "      <th>0</th>\n",
       "      <td>1</td>\n",
       "      <td>4409.919140</td>\n",
       "      <td>25.599769</td>\n",
       "      <td>2021-01-01</td>\n",
       "    </tr>\n",
       "    <tr>\n",
       "      <th>1</th>\n",
       "      <td>1</td>\n",
       "      <td>2617.592153</td>\n",
       "      <td>15.816871</td>\n",
       "      <td>2021-01-18</td>\n",
       "    </tr>\n",
       "    <tr>\n",
       "      <th>2</th>\n",
       "      <td>1</td>\n",
       "      <td>754.159807</td>\n",
       "      <td>6.232113</td>\n",
       "      <td>2021-04-20</td>\n",
       "    </tr>\n",
       "    <tr>\n",
       "      <th>3</th>\n",
       "      <td>1</td>\n",
       "      <td>2694.783254</td>\n",
       "      <td>18.511000</td>\n",
       "      <td>2021-08-11</td>\n",
       "    </tr>\n",
       "    <tr>\n",
       "      <th>4</th>\n",
       "      <td>1</td>\n",
       "      <td>4028.687306</td>\n",
       "      <td>26.265803</td>\n",
       "      <td>2021-08-28</td>\n",
       "    </tr>\n",
       "    <tr>\n",
       "      <th>5</th>\n",
       "      <td>1</td>\n",
       "      <td>2770.890808</td>\n",
       "      <td>16.650138</td>\n",
       "      <td>2021-10-09</td>\n",
       "    </tr>\n",
       "    <tr>\n",
       "      <th>6</th>\n",
       "      <td>1</td>\n",
       "      <td>3039.020292</td>\n",
       "      <td>14.927879</td>\n",
       "      <td>2021-10-19</td>\n",
       "    </tr>\n",
       "    <tr>\n",
       "      <th>7</th>\n",
       "      <td>1</td>\n",
       "      <td>2842.118050</td>\n",
       "      <td>23.117468</td>\n",
       "      <td>2021-11-06</td>\n",
       "    </tr>\n",
       "    <tr>\n",
       "      <th>8</th>\n",
       "      <td>1</td>\n",
       "      <td>3412.690668</td>\n",
       "      <td>15.238072</td>\n",
       "      <td>2021-11-14</td>\n",
       "    </tr>\n",
       "    <tr>\n",
       "      <th>9</th>\n",
       "      <td>1</td>\n",
       "      <td>748.690645</td>\n",
       "      <td>15.041884</td>\n",
       "      <td>2021-11-22</td>\n",
       "    </tr>\n",
       "  </tbody>\n",
       "</table>\n",
       "</div>"
      ],
      "text/plain": [
       "   user_id     distance   duration        date\n",
       "0        1  4409.919140  25.599769  2021-01-01\n",
       "1        1  2617.592153  15.816871  2021-01-18\n",
       "2        1   754.159807   6.232113  2021-04-20\n",
       "3        1  2694.783254  18.511000  2021-08-11\n",
       "4        1  4028.687306  26.265803  2021-08-28\n",
       "5        1  2770.890808  16.650138  2021-10-09\n",
       "6        1  3039.020292  14.927879  2021-10-19\n",
       "7        1  2842.118050  23.117468  2021-11-06\n",
       "8        1  3412.690668  15.238072  2021-11-14\n",
       "9        1   748.690645  15.041884  2021-11-22"
      ]
     },
     "execution_count": 7,
     "metadata": {},
     "output_type": "execute_result"
    }
   ],
   "source": [
    "rides_go.info()\n",
    "rides_go.head(10)"
   ]
  },
  {
   "cell_type": "code",
   "execution_count": 8,
   "id": "ef3a634d",
   "metadata": {},
   "outputs": [
    {
     "name": "stdout",
     "output_type": "stream",
     "text": [
      "<class 'pandas.core.frame.DataFrame'>\n",
      "RangeIndex: 2 entries, 0 to 1\n",
      "Data columns (total 4 columns):\n",
      " #   Column             Non-Null Count  Dtype \n",
      "---  ------             --------------  ----- \n",
      " 0   subscription_type  2 non-null      object\n",
      " 1   minute_price       2 non-null      int64 \n",
      " 2   start_ride_price   2 non-null      int64 \n",
      " 3   subscription_fee   2 non-null      int64 \n",
      "dtypes: int64(3), object(1)\n",
      "memory usage: 192.0+ bytes\n"
     ]
    },
    {
     "data": {
      "text/html": [
       "<div>\n",
       "<style scoped>\n",
       "    .dataframe tbody tr th:only-of-type {\n",
       "        vertical-align: middle;\n",
       "    }\n",
       "\n",
       "    .dataframe tbody tr th {\n",
       "        vertical-align: top;\n",
       "    }\n",
       "\n",
       "    .dataframe thead th {\n",
       "        text-align: right;\n",
       "    }\n",
       "</style>\n",
       "<table border=\"1\" class=\"dataframe\">\n",
       "  <thead>\n",
       "    <tr style=\"text-align: right;\">\n",
       "      <th></th>\n",
       "      <th>minute_price</th>\n",
       "      <th>start_ride_price</th>\n",
       "      <th>subscription_fee</th>\n",
       "    </tr>\n",
       "  </thead>\n",
       "  <tbody>\n",
       "    <tr>\n",
       "      <th>count</th>\n",
       "      <td>2.000000</td>\n",
       "      <td>2.000000</td>\n",
       "      <td>2.000000</td>\n",
       "    </tr>\n",
       "    <tr>\n",
       "      <th>mean</th>\n",
       "      <td>7.000000</td>\n",
       "      <td>25.000000</td>\n",
       "      <td>99.500000</td>\n",
       "    </tr>\n",
       "    <tr>\n",
       "      <th>std</th>\n",
       "      <td>1.414214</td>\n",
       "      <td>35.355339</td>\n",
       "      <td>140.714249</td>\n",
       "    </tr>\n",
       "    <tr>\n",
       "      <th>min</th>\n",
       "      <td>6.000000</td>\n",
       "      <td>0.000000</td>\n",
       "      <td>0.000000</td>\n",
       "    </tr>\n",
       "    <tr>\n",
       "      <th>25%</th>\n",
       "      <td>6.500000</td>\n",
       "      <td>12.500000</td>\n",
       "      <td>49.750000</td>\n",
       "    </tr>\n",
       "    <tr>\n",
       "      <th>50%</th>\n",
       "      <td>7.000000</td>\n",
       "      <td>25.000000</td>\n",
       "      <td>99.500000</td>\n",
       "    </tr>\n",
       "    <tr>\n",
       "      <th>75%</th>\n",
       "      <td>7.500000</td>\n",
       "      <td>37.500000</td>\n",
       "      <td>149.250000</td>\n",
       "    </tr>\n",
       "    <tr>\n",
       "      <th>max</th>\n",
       "      <td>8.000000</td>\n",
       "      <td>50.000000</td>\n",
       "      <td>199.000000</td>\n",
       "    </tr>\n",
       "  </tbody>\n",
       "</table>\n",
       "</div>"
      ],
      "text/plain": [
       "       minute_price  start_ride_price  subscription_fee\n",
       "count      2.000000          2.000000          2.000000\n",
       "mean       7.000000         25.000000         99.500000\n",
       "std        1.414214         35.355339        140.714249\n",
       "min        6.000000          0.000000          0.000000\n",
       "25%        6.500000         12.500000         49.750000\n",
       "50%        7.000000         25.000000         99.500000\n",
       "75%        7.500000         37.500000        149.250000\n",
       "max        8.000000         50.000000        199.000000"
      ]
     },
     "execution_count": 8,
     "metadata": {},
     "output_type": "execute_result"
    }
   ],
   "source": [
    "subscriptions_go.info()\n",
    "subscriptions_go.head(10)\n",
    "subscriptions_go.describe()"
   ]
  },
  {
   "cell_type": "markdown",
   "id": "8e0751da",
   "metadata": {},
   "source": [
    "# 3. Предобработка данных"
   ]
  },
  {
   "cell_type": "markdown",
   "id": "4165cec8",
   "metadata": {},
   "source": [
    "## 3.1. Столбец data"
   ]
  },
  {
   "cell_type": "markdown",
   "id": "7375bc1f",
   "metadata": {},
   "source": [
    "Приведем столбец data в датасете rides_go к типу date_time"
   ]
  },
  {
   "cell_type": "code",
   "execution_count": 9,
   "id": "beba93b1",
   "metadata": {},
   "outputs": [],
   "source": [
    "rides_go['date'] =  pd.to_datetime(rides_go['date'], format='%Y-%m-%d')"
   ]
  },
  {
   "cell_type": "code",
   "execution_count": 10,
   "id": "52e43591",
   "metadata": {},
   "outputs": [
    {
     "name": "stdout",
     "output_type": "stream",
     "text": [
      "<class 'pandas.core.frame.DataFrame'>\n",
      "RangeIndex: 18068 entries, 0 to 18067\n",
      "Data columns (total 4 columns):\n",
      " #   Column    Non-Null Count  Dtype         \n",
      "---  ------    --------------  -----         \n",
      " 0   user_id   18068 non-null  int64         \n",
      " 1   distance  18068 non-null  float64       \n",
      " 2   duration  18068 non-null  float64       \n",
      " 3   date      18068 non-null  datetime64[ns]\n",
      "dtypes: datetime64[ns](1), float64(2), int64(1)\n",
      "memory usage: 564.8 KB\n"
     ]
    }
   ],
   "source": [
    "rides_go.info()"
   ]
  },
  {
   "cell_type": "code",
   "execution_count": 11,
   "id": "c195c971",
   "metadata": {},
   "outputs": [
    {
     "data": {
      "text/html": [
       "<div>\n",
       "<style scoped>\n",
       "    .dataframe tbody tr th:only-of-type {\n",
       "        vertical-align: middle;\n",
       "    }\n",
       "\n",
       "    .dataframe tbody tr th {\n",
       "        vertical-align: top;\n",
       "    }\n",
       "\n",
       "    .dataframe thead th {\n",
       "        text-align: right;\n",
       "    }\n",
       "</style>\n",
       "<table border=\"1\" class=\"dataframe\">\n",
       "  <thead>\n",
       "    <tr style=\"text-align: right;\">\n",
       "      <th></th>\n",
       "      <th>user_id</th>\n",
       "      <th>distance</th>\n",
       "      <th>duration</th>\n",
       "      <th>date</th>\n",
       "    </tr>\n",
       "  </thead>\n",
       "  <tbody>\n",
       "    <tr>\n",
       "      <th>0</th>\n",
       "      <td>1</td>\n",
       "      <td>4409.919140</td>\n",
       "      <td>25.599769</td>\n",
       "      <td>2021-01-01</td>\n",
       "    </tr>\n",
       "    <tr>\n",
       "      <th>1</th>\n",
       "      <td>1</td>\n",
       "      <td>2617.592153</td>\n",
       "      <td>15.816871</td>\n",
       "      <td>2021-01-18</td>\n",
       "    </tr>\n",
       "    <tr>\n",
       "      <th>2</th>\n",
       "      <td>1</td>\n",
       "      <td>754.159807</td>\n",
       "      <td>6.232113</td>\n",
       "      <td>2021-04-20</td>\n",
       "    </tr>\n",
       "    <tr>\n",
       "      <th>3</th>\n",
       "      <td>1</td>\n",
       "      <td>2694.783254</td>\n",
       "      <td>18.511000</td>\n",
       "      <td>2021-08-11</td>\n",
       "    </tr>\n",
       "    <tr>\n",
       "      <th>4</th>\n",
       "      <td>1</td>\n",
       "      <td>4028.687306</td>\n",
       "      <td>26.265803</td>\n",
       "      <td>2021-08-28</td>\n",
       "    </tr>\n",
       "  </tbody>\n",
       "</table>\n",
       "</div>"
      ],
      "text/plain": [
       "   user_id     distance   duration       date\n",
       "0        1  4409.919140  25.599769 2021-01-01\n",
       "1        1  2617.592153  15.816871 2021-01-18\n",
       "2        1   754.159807   6.232113 2021-04-20\n",
       "3        1  2694.783254  18.511000 2021-08-11\n",
       "4        1  4028.687306  26.265803 2021-08-28"
      ]
     },
     "execution_count": 11,
     "metadata": {},
     "output_type": "execute_result"
    }
   ],
   "source": [
    "rides_go.head()"
   ]
  },
  {
   "cell_type": "markdown",
   "id": "64431416",
   "metadata": {},
   "source": [
    "## 3.2. Cтолбец с номером месяца на основе столбца date"
   ]
  },
  {
   "cell_type": "code",
   "execution_count": 12,
   "id": "806aaa7f",
   "metadata": {},
   "outputs": [],
   "source": [
    "rides_go['month'] = rides_go['date'].dt.month"
   ]
  },
  {
   "cell_type": "code",
   "execution_count": 13,
   "id": "6278b007",
   "metadata": {},
   "outputs": [
    {
     "data": {
      "text/html": [
       "<div>\n",
       "<style scoped>\n",
       "    .dataframe tbody tr th:only-of-type {\n",
       "        vertical-align: middle;\n",
       "    }\n",
       "\n",
       "    .dataframe tbody tr th {\n",
       "        vertical-align: top;\n",
       "    }\n",
       "\n",
       "    .dataframe thead th {\n",
       "        text-align: right;\n",
       "    }\n",
       "</style>\n",
       "<table border=\"1\" class=\"dataframe\">\n",
       "  <thead>\n",
       "    <tr style=\"text-align: right;\">\n",
       "      <th></th>\n",
       "      <th>user_id</th>\n",
       "      <th>distance</th>\n",
       "      <th>duration</th>\n",
       "      <th>date</th>\n",
       "      <th>month</th>\n",
       "    </tr>\n",
       "  </thead>\n",
       "  <tbody>\n",
       "    <tr>\n",
       "      <th>0</th>\n",
       "      <td>1</td>\n",
       "      <td>4409.919140</td>\n",
       "      <td>25.599769</td>\n",
       "      <td>2021-01-01</td>\n",
       "      <td>1</td>\n",
       "    </tr>\n",
       "    <tr>\n",
       "      <th>1</th>\n",
       "      <td>1</td>\n",
       "      <td>2617.592153</td>\n",
       "      <td>15.816871</td>\n",
       "      <td>2021-01-18</td>\n",
       "      <td>1</td>\n",
       "    </tr>\n",
       "    <tr>\n",
       "      <th>2</th>\n",
       "      <td>1</td>\n",
       "      <td>754.159807</td>\n",
       "      <td>6.232113</td>\n",
       "      <td>2021-04-20</td>\n",
       "      <td>4</td>\n",
       "    </tr>\n",
       "    <tr>\n",
       "      <th>3</th>\n",
       "      <td>1</td>\n",
       "      <td>2694.783254</td>\n",
       "      <td>18.511000</td>\n",
       "      <td>2021-08-11</td>\n",
       "      <td>8</td>\n",
       "    </tr>\n",
       "    <tr>\n",
       "      <th>4</th>\n",
       "      <td>1</td>\n",
       "      <td>4028.687306</td>\n",
       "      <td>26.265803</td>\n",
       "      <td>2021-08-28</td>\n",
       "      <td>8</td>\n",
       "    </tr>\n",
       "  </tbody>\n",
       "</table>\n",
       "</div>"
      ],
      "text/plain": [
       "   user_id     distance   duration       date  month\n",
       "0        1  4409.919140  25.599769 2021-01-01      1\n",
       "1        1  2617.592153  15.816871 2021-01-18      1\n",
       "2        1   754.159807   6.232113 2021-04-20      4\n",
       "3        1  2694.783254  18.511000 2021-08-11      8\n",
       "4        1  4028.687306  26.265803 2021-08-28      8"
      ]
     },
     "execution_count": 13,
     "metadata": {},
     "output_type": "execute_result"
    }
   ],
   "source": [
    "rides_go.head()"
   ]
  },
  {
   "cell_type": "markdown",
   "id": "7e56bcba",
   "metadata": {},
   "source": [
    "## 3.3. Пропущенные значения"
   ]
  },
  {
   "cell_type": "markdown",
   "id": "6bd09c38",
   "metadata": {},
   "source": [
    "По info() понятно, что пропущенных значений нет. Тем не менее"
   ]
  },
  {
   "cell_type": "code",
   "execution_count": 14,
   "id": "f8a5dd87",
   "metadata": {},
   "outputs": [
    {
     "data": {
      "text/plain": [
       "user_id              0\n",
       "name                 0\n",
       "age                  0\n",
       "city                 0\n",
       "subscription_type    0\n",
       "dtype: int64"
      ]
     },
     "execution_count": 14,
     "metadata": {},
     "output_type": "execute_result"
    }
   ],
   "source": [
    "users_go.isna().sum()"
   ]
  },
  {
   "cell_type": "code",
   "execution_count": 15,
   "id": "97543ff9",
   "metadata": {},
   "outputs": [
    {
     "data": {
      "text/plain": [
       "user_id     0\n",
       "distance    0\n",
       "duration    0\n",
       "date        0\n",
       "month       0\n",
       "dtype: int64"
      ]
     },
     "execution_count": 15,
     "metadata": {},
     "output_type": "execute_result"
    }
   ],
   "source": [
    "rides_go.isna().sum()"
   ]
  },
  {
   "cell_type": "code",
   "execution_count": 16,
   "id": "615771d2",
   "metadata": {},
   "outputs": [
    {
     "data": {
      "text/plain": [
       "subscription_type    0\n",
       "minute_price         0\n",
       "start_ride_price     0\n",
       "subscription_fee     0\n",
       "dtype: int64"
      ]
     },
     "execution_count": 16,
     "metadata": {},
     "output_type": "execute_result"
    }
   ],
   "source": [
    "subscriptions_go.isna().sum()"
   ]
  },
  {
   "cell_type": "markdown",
   "id": "a5248d18",
   "metadata": {},
   "source": [
    "Проверим дубликаты"
   ]
  },
  {
   "cell_type": "markdown",
   "id": "0d74daa1",
   "metadata": {},
   "source": [
    "### 3.3.1 users_go столбец city\t"
   ]
  },
  {
   "cell_type": "code",
   "execution_count": 17,
   "id": "24589e2a",
   "metadata": {},
   "outputs": [
    {
     "data": {
      "text/plain": [
       "array(['Тюмень', 'Омск', 'Москва', 'Ростов-на-Дону', 'Краснодар',\n",
       "       'Пятигорск', 'Екатеринбург', 'Сочи'], dtype=object)"
      ]
     },
     "execution_count": 17,
     "metadata": {},
     "output_type": "execute_result"
    }
   ],
   "source": [
    "users_go['city'].unique()"
   ]
  },
  {
   "cell_type": "markdown",
   "id": "7f471b50",
   "metadata": {},
   "source": [
    "Каких-то явных дубликатов нет, однако у пользователей может быть несколько аккаунтов. "
   ]
  },
  {
   "cell_type": "code",
   "execution_count": 18,
   "id": "8efa9d78",
   "metadata": {},
   "outputs": [],
   "source": [
    "def accounts(df:pd.DataFrame) -> pd.DataFrame:               \n",
    "        table =  pd.DataFrame(columns = {'name','count','city'})\n",
    "        unique = df['name'].unique()        \n",
    "        for i in range(len(unique)):\n",
    "            count = df[df['name'] == unique[i]].age.duplicated().sum() \n",
    "            table.loc[i, 'name'] = unique[i]\n",
    "            table.loc[i, 'count'] = count         \n",
    "                        \n",
    "        return table"
   ]
  },
  {
   "cell_type": "code",
   "execution_count": 19,
   "id": "4a40a474",
   "metadata": {},
   "outputs": [],
   "source": [
    "users_go_duplicates = accounts(users_go)"
   ]
  },
  {
   "cell_type": "code",
   "execution_count": 20,
   "id": "b7b235d0",
   "metadata": {},
   "outputs": [
    {
     "data": {
      "text/html": [
       "<div>\n",
       "<style scoped>\n",
       "    .dataframe tbody tr th:only-of-type {\n",
       "        vertical-align: middle;\n",
       "    }\n",
       "\n",
       "    .dataframe tbody tr th {\n",
       "        vertical-align: top;\n",
       "    }\n",
       "\n",
       "    .dataframe thead th {\n",
       "        text-align: right;\n",
       "    }\n",
       "</style>\n",
       "<table border=\"1\" class=\"dataframe\">\n",
       "  <thead>\n",
       "    <tr style=\"text-align: right;\">\n",
       "      <th></th>\n",
       "      <th>city</th>\n",
       "      <th>count</th>\n",
       "      <th>name</th>\n",
       "    </tr>\n",
       "  </thead>\n",
       "  <tbody>\n",
       "    <tr>\n",
       "      <th>0</th>\n",
       "      <td>NaN</td>\n",
       "      <td>7</td>\n",
       "      <td>Кира</td>\n",
       "    </tr>\n",
       "    <tr>\n",
       "      <th>31</th>\n",
       "      <td>NaN</td>\n",
       "      <td>6</td>\n",
       "      <td>Иван</td>\n",
       "    </tr>\n",
       "    <tr>\n",
       "      <th>60</th>\n",
       "      <td>NaN</td>\n",
       "      <td>8</td>\n",
       "      <td>Никита</td>\n",
       "    </tr>\n",
       "    <tr>\n",
       "      <th>64</th>\n",
       "      <td>NaN</td>\n",
       "      <td>10</td>\n",
       "      <td>Анна</td>\n",
       "    </tr>\n",
       "    <tr>\n",
       "      <th>66</th>\n",
       "      <td>NaN</td>\n",
       "      <td>6</td>\n",
       "      <td>Вячеслав</td>\n",
       "    </tr>\n",
       "    <tr>\n",
       "      <th>97</th>\n",
       "      <td>NaN</td>\n",
       "      <td>6</td>\n",
       "      <td>Артемий</td>\n",
       "    </tr>\n",
       "    <tr>\n",
       "      <th>112</th>\n",
       "      <td>NaN</td>\n",
       "      <td>6</td>\n",
       "      <td>Михаил</td>\n",
       "    </tr>\n",
       "    <tr>\n",
       "      <th>135</th>\n",
       "      <td>NaN</td>\n",
       "      <td>6</td>\n",
       "      <td>Кирилл</td>\n",
       "    </tr>\n",
       "    <tr>\n",
       "      <th>152</th>\n",
       "      <td>NaN</td>\n",
       "      <td>9</td>\n",
       "      <td>Мария</td>\n",
       "    </tr>\n",
       "  </tbody>\n",
       "</table>\n",
       "</div>"
      ],
      "text/plain": [
       "    city count      name\n",
       "0    NaN     7      Кира\n",
       "31   NaN     6      Иван\n",
       "60   NaN     8    Никита\n",
       "64   NaN    10      Анна\n",
       "66   NaN     6  Вячеслав\n",
       "97   NaN     6   Артемий\n",
       "112  NaN     6    Михаил\n",
       "135  NaN     6    Кирилл\n",
       "152  NaN     9     Мария"
      ]
     },
     "execution_count": 20,
     "metadata": {},
     "output_type": "execute_result"
    }
   ],
   "source": [
    "users_go_duplicates[users_go_duplicates['count'] > 5]"
   ]
  },
  {
   "cell_type": "code",
   "execution_count": 21,
   "id": "355d3a61",
   "metadata": {},
   "outputs": [
    {
     "data": {
      "text/plain": [
       "0.04639175257731959"
      ]
     },
     "execution_count": 21,
     "metadata": {},
     "output_type": "execute_result"
    }
   ],
   "source": [
    "users_go_duplicates[users_go_duplicates['count'] > 5].name.count()/users_go_duplicates.shape[0]"
   ]
  },
  {
   "cell_type": "markdown",
   "id": "2656b97c",
   "metadata": {},
   "source": [
    "4 процента таких записей. Скорее всего они разбросаны по разным городам"
   ]
  },
  {
   "cell_type": "code",
   "execution_count": 22,
   "id": "b60ab356",
   "metadata": {},
   "outputs": [
    {
     "data": {
      "text/plain": [
       "user_id              0\n",
       "name                 0\n",
       "age                  0\n",
       "city                 0\n",
       "subscription_type    0\n",
       "dtype: int64"
      ]
     },
     "execution_count": 22,
     "metadata": {},
     "output_type": "execute_result"
    }
   ],
   "source": [
    "users_go.isna().sum()"
   ]
  },
  {
   "cell_type": "markdown",
   "id": "3f65ab76",
   "metadata": {},
   "source": [
    "### 3.3.2 rides_go. duration"
   ]
  },
  {
   "cell_type": "code",
   "execution_count": 23,
   "id": "f690e4c3",
   "metadata": {},
   "outputs": [
    {
     "data": {
      "text/plain": [
       "count    18068.000000\n",
       "mean        17.805011\n",
       "std          6.091051\n",
       "min          0.500000\n",
       "25%         13.597563\n",
       "50%         17.678395\n",
       "75%         21.724800\n",
       "max         40.823963\n",
       "Name: duration, dtype: float64"
      ]
     },
     "execution_count": 23,
     "metadata": {},
     "output_type": "execute_result"
    }
   ],
   "source": [
    "rides_go.duration.describe()"
   ]
  },
  {
   "cell_type": "markdown",
   "id": "3d41b1ad",
   "metadata": {},
   "source": [
    "В столбце duration есть весомое количество значений 0.5 мин (95). Скорее всего это сбой при формировании датасета. Заполним медианой"
   ]
  },
  {
   "cell_type": "code",
   "execution_count": 24,
   "id": "30410ec5",
   "metadata": {},
   "outputs": [],
   "source": [
    "def duration(df:pd.DataFrame) -> pd.DataFrame:\n",
    "    for i in range(len(df['duration'])):\n",
    "                   if df.loc[i,'duration'] == 0.5:\n",
    "                       df.loc[i,'duration'] = df['duration'].median()\n",
    "    return df"
   ]
  },
  {
   "cell_type": "code",
   "execution_count": 25,
   "id": "03056b32",
   "metadata": {},
   "outputs": [],
   "source": [
    "rides_go = duration(rides_go)"
   ]
  },
  {
   "cell_type": "markdown",
   "id": "abc9b28a",
   "metadata": {},
   "source": [
    "### 3.3.3 rides_go. distance"
   ]
  },
  {
   "cell_type": "code",
   "execution_count": 26,
   "id": "ea8f2802",
   "metadata": {},
   "outputs": [
    {
     "data": {
      "text/plain": [
       "count    18068.000000\n",
       "mean      3070.659976\n",
       "std       1116.831209\n",
       "min          0.855683\n",
       "25%       2543.226360\n",
       "50%       3133.609994\n",
       "75%       3776.222735\n",
       "max       7211.007745\n",
       "Name: distance, dtype: float64"
      ]
     },
     "execution_count": 26,
     "metadata": {},
     "output_type": "execute_result"
    }
   ],
   "source": [
    "rides_go.distance.describe()"
   ]
  },
  {
   "cell_type": "code",
   "execution_count": 27,
   "id": "78388572",
   "metadata": {},
   "outputs": [
    {
     "data": {
      "text/plain": [
       "user_id     170\n",
       "distance    170\n",
       "duration    170\n",
       "date        170\n",
       "month       170\n",
       "dtype: int64"
      ]
     },
     "execution_count": 27,
     "metadata": {},
     "output_type": "execute_result"
    }
   ],
   "source": [
    "rides_go.query('distance < 200 ').count()"
   ]
  },
  {
   "cell_type": "code",
   "execution_count": 28,
   "id": "1f5de161",
   "metadata": {},
   "outputs": [],
   "source": [
    "rides_go = rides_go[rides_go['distance'] > 200]"
   ]
  },
  {
   "cell_type": "code",
   "execution_count": 29,
   "id": "9de5908b",
   "metadata": {},
   "outputs": [
    {
     "data": {
      "text/html": [
       "<div>\n",
       "<style scoped>\n",
       "    .dataframe tbody tr th:only-of-type {\n",
       "        vertical-align: middle;\n",
       "    }\n",
       "\n",
       "    .dataframe tbody tr th {\n",
       "        vertical-align: top;\n",
       "    }\n",
       "\n",
       "    .dataframe thead th {\n",
       "        text-align: right;\n",
       "    }\n",
       "</style>\n",
       "<table border=\"1\" class=\"dataframe\">\n",
       "  <thead>\n",
       "    <tr style=\"text-align: right;\">\n",
       "      <th></th>\n",
       "      <th>user_id</th>\n",
       "      <th>distance</th>\n",
       "      <th>duration</th>\n",
       "      <th>month</th>\n",
       "    </tr>\n",
       "  </thead>\n",
       "  <tbody>\n",
       "    <tr>\n",
       "      <th>count</th>\n",
       "      <td>17898.000000</td>\n",
       "      <td>17898.000000</td>\n",
       "      <td>17898.000000</td>\n",
       "      <td>17898.000000</td>\n",
       "    </tr>\n",
       "    <tr>\n",
       "      <th>mean</th>\n",
       "      <td>840.030003</td>\n",
       "      <td>3098.805221</td>\n",
       "      <td>17.987631</td>\n",
       "      <td>6.483965</td>\n",
       "    </tr>\n",
       "    <tr>\n",
       "      <th>std</th>\n",
       "      <td>435.211402</td>\n",
       "      <td>1083.944105</td>\n",
       "      <td>5.900586</td>\n",
       "      <td>3.437806</td>\n",
       "    </tr>\n",
       "    <tr>\n",
       "      <th>min</th>\n",
       "      <td>1.000000</td>\n",
       "      <td>200.034777</td>\n",
       "      <td>2.480577</td>\n",
       "      <td>1.000000</td>\n",
       "    </tr>\n",
       "    <tr>\n",
       "      <th>25%</th>\n",
       "      <td>483.000000</td>\n",
       "      <td>2563.588392</td>\n",
       "      <td>13.802501</td>\n",
       "      <td>4.000000</td>\n",
       "    </tr>\n",
       "    <tr>\n",
       "      <th>50%</th>\n",
       "      <td>885.000000</td>\n",
       "      <td>3143.650015</td>\n",
       "      <td>17.744270</td>\n",
       "      <td>6.000000</td>\n",
       "    </tr>\n",
       "    <tr>\n",
       "      <th>75%</th>\n",
       "      <td>1212.000000</td>\n",
       "      <td>3787.101924</td>\n",
       "      <td>21.764322</td>\n",
       "      <td>9.000000</td>\n",
       "    </tr>\n",
       "    <tr>\n",
       "      <th>max</th>\n",
       "      <td>1534.000000</td>\n",
       "      <td>7211.007745</td>\n",
       "      <td>40.823963</td>\n",
       "      <td>12.000000</td>\n",
       "    </tr>\n",
       "  </tbody>\n",
       "</table>\n",
       "</div>"
      ],
      "text/plain": [
       "            user_id      distance      duration         month\n",
       "count  17898.000000  17898.000000  17898.000000  17898.000000\n",
       "mean     840.030003   3098.805221     17.987631      6.483965\n",
       "std      435.211402   1083.944105      5.900586      3.437806\n",
       "min        1.000000    200.034777      2.480577      1.000000\n",
       "25%      483.000000   2563.588392     13.802501      4.000000\n",
       "50%      885.000000   3143.650015     17.744270      6.000000\n",
       "75%     1212.000000   3787.101924     21.764322      9.000000\n",
       "max     1534.000000   7211.007745     40.823963     12.000000"
      ]
     },
     "execution_count": 29,
     "metadata": {},
     "output_type": "execute_result"
    }
   ],
   "source": [
    "rides_go.describe()"
   ]
  },
  {
   "cell_type": "markdown",
   "id": "e53d0fe7",
   "metadata": {},
   "source": [
    "**Вывод**: Другие дубликаты обнаружить не удалось"
   ]
  },
  {
   "cell_type": "markdown",
   "id": "cf29e8f2",
   "metadata": {},
   "source": [
    "# 4. Исследовательский анализ данных"
   ]
  },
  {
   "cell_type": "markdown",
   "id": "7b4acb6f",
   "metadata": {},
   "source": [
    "## 4.1. Частота встречаемости городов"
   ]
  },
  {
   "cell_type": "code",
   "execution_count": 30,
   "id": "091a1e4c",
   "metadata": {},
   "outputs": [
    {
     "data": {
      "text/plain": [
       "Москва            172\n",
       "Тюмень            185\n",
       "Омск              186\n",
       "Сочи              192\n",
       "Краснодар         196\n",
       "Ростов-на-Дону    202\n",
       "Екатеринбург      206\n",
       "Пятигорск         226\n",
       "Name: city, dtype: int64"
      ]
     },
     "execution_count": 30,
     "metadata": {},
     "output_type": "execute_result"
    }
   ],
   "source": [
    "users_go.city.value_counts(ascending= True)"
   ]
  },
  {
   "cell_type": "code",
   "execution_count": 31,
   "id": "61d12ee8",
   "metadata": {},
   "outputs": [
    {
     "data": {
      "image/png": "[encoded data removed]",
      "text/plain": [
       "<Figure size 432x288 with 1 Axes>"
      ]
     },
     "metadata": {
      "needs_background": "light"
     },
     "output_type": "display_data"
    }
   ],
   "source": [
    "users_go.city.hist(bins =15);\n",
    "plt.xticks(rotation='vertical');"
   ]
  },
  {
   "cell_type": "markdown",
   "id": "fd5fceca",
   "metadata": {},
   "source": [
    "Самый часто встерчающийся город - Пятигорск, за ним Екатеринбург и Ростов-на-Дону"
   ]
  },
  {
   "cell_type": "markdown",
   "id": "62b1ad36",
   "metadata": {},
   "source": [
    "## 4.2. Соотношение пользователей с подпиской и без подписки"
   ]
  },
  {
   "cell_type": "code",
   "execution_count": 32,
   "id": "d6f909a2",
   "metadata": {},
   "outputs": [
    {
     "data": {
      "image/png": "[encoded data removed]",
      "text/plain": [
       "<Figure size 432x288 with 1 Axes>"
      ]
     },
     "metadata": {
      "needs_background": "light"
     },
     "output_type": "display_data"
    }
   ],
   "source": [
    "users_go.subscription_type.hist(bins=3);"
   ]
  },
  {
   "cell_type": "code",
   "execution_count": 33,
   "id": "05312adf",
   "metadata": {},
   "outputs": [
    {
     "name": "stdout",
     "output_type": "stream",
     "text": [
      "45.94249201277955 % пользователей с подпиской\n"
     ]
    }
   ],
   "source": [
    "relation_ultra = users_go.query('subscription_type == \"ultra\"').user_id.count()/users_go.user_id.count()  * 100\n",
    "print(f'{relation_ultra} % пользователей с подпиской')"
   ]
  },
  {
   "cell_type": "code",
   "execution_count": 34,
   "id": "e41034da",
   "metadata": {},
   "outputs": [
    {
     "name": "stdout",
     "output_type": "stream",
     "text": [
      "54.05750798722045 % пользователей без подписки\n"
     ]
    }
   ],
   "source": [
    "relation_free = users_go.query('subscription_type == \"free\"').user_id.count()/users_go.user_id.count()  * 100\n",
    "print(f'{relation_free} % пользователей без подписки')"
   ]
  },
  {
   "cell_type": "markdown",
   "id": "ee9faaf1",
   "metadata": {},
   "source": [
    "~46 процентов пользователей (719) купили подписку "
   ]
  },
  {
   "cell_type": "markdown",
   "id": "c35d8b6b",
   "metadata": {},
   "source": [
    "## 4.3. Возраст пользователей"
   ]
  },
  {
   "cell_type": "code",
   "execution_count": 35,
   "id": "f5579417",
   "metadata": {},
   "outputs": [
    {
     "data": {
      "text/plain": [
       "count    1565.000000\n",
       "mean       24.922045\n",
       "std         4.553496\n",
       "min        12.000000\n",
       "25%        22.000000\n",
       "50%        25.000000\n",
       "75%        28.000000\n",
       "max        43.000000\n",
       "Name: age, dtype: float64"
      ]
     },
     "execution_count": 35,
     "metadata": {},
     "output_type": "execute_result"
    }
   ],
   "source": [
    "users_go.age.describe()"
   ]
  },
  {
   "cell_type": "code",
   "execution_count": 36,
   "id": "e100aadd",
   "metadata": {},
   "outputs": [
    {
     "data": {
      "text/plain": [
       "25"
      ]
     },
     "execution_count": 36,
     "metadata": {},
     "output_type": "execute_result"
    }
   ],
   "source": [
    "users_go.age.mode()[0]"
   ]
  },
  {
   "cell_type": "code",
   "execution_count": 37,
   "id": "421580e2",
   "metadata": {},
   "outputs": [
    {
     "data": {
      "text/plain": [
       "25    149\n",
       "26    133\n",
       "23    133\n",
       "24    132\n",
       "27    124\n",
       "22    120\n",
       "28    116\n",
       "21     94\n",
       "29     72\n",
       "20     72\n",
       "30     70\n",
       "19     49\n",
       "31     48\n",
       "18     46\n",
       "32     41\n",
       "33     40\n",
       "17     26\n",
       "16     19\n",
       "34     19\n",
       "35     15\n",
       "15     13\n",
       "14      9\n",
       "13      8\n",
       "36      6\n",
       "12      4\n",
       "38      3\n",
       "37      2\n",
       "39      1\n",
       "43      1\n",
       "Name: age, dtype: int64"
      ]
     },
     "execution_count": 37,
     "metadata": {},
     "output_type": "execute_result"
    }
   ],
   "source": [
    "users_go.age.value_counts()"
   ]
  },
  {
   "cell_type": "code",
   "execution_count": 38,
   "id": "069be7d5",
   "metadata": {},
   "outputs": [
    {
     "data": {
      "image/png": "[encoded data removed]",
      "text/plain": [
       "<Figure size 432x288 with 1 Axes>"
      ]
     },
     "metadata": {
      "needs_background": "light"
     },
     "output_type": "display_data"
    }
   ],
   "source": [
    "users_go.age.hist(bins=100);"
   ]
  },
  {
   "cell_type": "markdown",
   "id": "49733bcb",
   "metadata": {},
   "source": [
    "Самый частовстречающийся возраст (мода) - 25 лет. Минимальный -12, максимальный 43. На данном промежутке возраст имеет характер нормального распределения"
   ]
  },
  {
   "cell_type": "markdown",
   "id": "3a57a960",
   "metadata": {},
   "source": [
    " ## 4.4. Расстояние, которое пользователь преодолел за одну поездку"
   ]
  },
  {
   "cell_type": "code",
   "execution_count": 39,
   "id": "1aa5d6ee",
   "metadata": {},
   "outputs": [
    {
     "data": {
      "text/plain": [
       "count    17898.000000\n",
       "mean      3098.805221\n",
       "std       1083.944105\n",
       "min        200.034777\n",
       "25%       2563.588392\n",
       "50%       3143.650015\n",
       "75%       3787.101924\n",
       "max       7211.007745\n",
       "Name: distance, dtype: float64"
      ]
     },
     "execution_count": 39,
     "metadata": {},
     "output_type": "execute_result"
    }
   ],
   "source": [
    "rides_go.distance.describe()"
   ]
  },
  {
   "cell_type": "code",
   "execution_count": 40,
   "id": "63fe27f1",
   "metadata": {},
   "outputs": [
    {
     "data": {
      "image/png": "[encoded data removed]",
      "text/plain": [
       "<Figure size 432x288 with 1 Axes>"
      ]
     },
     "metadata": {
      "needs_background": "light"
     },
     "output_type": "display_data"
    }
   ],
   "source": [
    "rides_go.distance.hist(bins=2000);"
   ]
  },
  {
   "cell_type": "markdown",
   "id": "4f7618e4",
   "metadata": {},
   "source": [
    "Дистанции поездок находятся в диапазоне Самая частая дистанция ~3070 метров. Тем менее есть значительное увеличение числа поездок в промежутке от 0 до 1000 метров."
   ]
  },
  {
   "cell_type": "markdown",
   "id": "b123d41b",
   "metadata": {},
   "source": [
    "## 4.5. Продолжительность поездок."
   ]
  },
  {
   "cell_type": "code",
   "execution_count": 41,
   "id": "66f04d66",
   "metadata": {},
   "outputs": [
    {
     "data": {
      "text/plain": [
       "count    17898.000000\n",
       "mean        17.987631\n",
       "std          5.900586\n",
       "min          2.480577\n",
       "25%         13.802501\n",
       "50%         17.744270\n",
       "75%         21.764322\n",
       "max         40.823963\n",
       "Name: duration, dtype: float64"
      ]
     },
     "execution_count": 41,
     "metadata": {},
     "output_type": "execute_result"
    }
   ],
   "source": [
    "rides_go.duration.describe()"
   ]
  },
  {
   "cell_type": "code",
   "execution_count": 42,
   "id": "21d41c25",
   "metadata": {},
   "outputs": [
    {
     "data": {
      "image/png": "[encoded data removed]",
      "text/plain": [
       "<Figure size 432x288 with 1 Axes>"
      ]
     },
     "metadata": {
      "needs_background": "light"
     },
     "output_type": "display_data"
    }
   ],
   "source": [
    "rides_go.duration.hist(bins=110);"
   ]
  },
  {
   "cell_type": "markdown",
   "id": "28afdd68",
   "metadata": {},
   "source": [
    "Дистанции поездок находятся в диапазоне Самая частая дистанция ~3070 метров. Тем менее есть значительное увеличение числа поездок в промежутке от 0 до 1000 метров."
   ]
  },
  {
   "cell_type": "markdown",
   "id": "4e30c983",
   "metadata": {},
   "source": [
    "# 5. Объединение данных"
   ]
  },
  {
   "cell_type": "markdown",
   "id": "c364cb3e",
   "metadata": {},
   "source": [
    "## 5.1 Объединим данные о пользователях, поездках и подписках в один датафрейм. "
   ]
  },
  {
   "cell_type": "code",
   "execution_count": 43,
   "id": "42327c73",
   "metadata": {},
   "outputs": [],
   "source": [
    "merged_users = users_go.merge(rides_go, how= 'outer')"
   ]
  },
  {
   "cell_type": "code",
   "execution_count": 44,
   "id": "3a4bd7ac",
   "metadata": {},
   "outputs": [],
   "source": [
    "merged_users = merged_users.merge(subscriptions_go, how= 'outer')"
   ]
  },
  {
   "cell_type": "code",
   "execution_count": 45,
   "id": "78fcd97e",
   "metadata": {},
   "outputs": [
    {
     "data": {
      "text/html": [
       "<div>\n",
       "<style scoped>\n",
       "    .dataframe tbody tr th:only-of-type {\n",
       "        vertical-align: middle;\n",
       "    }\n",
       "\n",
       "    .dataframe tbody tr th {\n",
       "        vertical-align: top;\n",
       "    }\n",
       "\n",
       "    .dataframe thead th {\n",
       "        text-align: right;\n",
       "    }\n",
       "</style>\n",
       "<table border=\"1\" class=\"dataframe\">\n",
       "  <thead>\n",
       "    <tr style=\"text-align: right;\">\n",
       "      <th></th>\n",
       "      <th>user_id</th>\n",
       "      <th>name</th>\n",
       "      <th>age</th>\n",
       "      <th>city</th>\n",
       "      <th>subscription_type</th>\n",
       "      <th>distance</th>\n",
       "      <th>duration</th>\n",
       "      <th>date</th>\n",
       "      <th>month</th>\n",
       "      <th>minute_price</th>\n",
       "      <th>start_ride_price</th>\n",
       "      <th>subscription_fee</th>\n",
       "    </tr>\n",
       "  </thead>\n",
       "  <tbody>\n",
       "    <tr>\n",
       "      <th>0</th>\n",
       "      <td>1</td>\n",
       "      <td>Кира</td>\n",
       "      <td>22</td>\n",
       "      <td>Тюмень</td>\n",
       "      <td>ultra</td>\n",
       "      <td>4409.919140</td>\n",
       "      <td>25.599769</td>\n",
       "      <td>2021-01-01</td>\n",
       "      <td>1</td>\n",
       "      <td>6</td>\n",
       "      <td>0</td>\n",
       "      <td>199</td>\n",
       "    </tr>\n",
       "    <tr>\n",
       "      <th>1</th>\n",
       "      <td>1</td>\n",
       "      <td>Кира</td>\n",
       "      <td>22</td>\n",
       "      <td>Тюмень</td>\n",
       "      <td>ultra</td>\n",
       "      <td>2617.592153</td>\n",
       "      <td>15.816871</td>\n",
       "      <td>2021-01-18</td>\n",
       "      <td>1</td>\n",
       "      <td>6</td>\n",
       "      <td>0</td>\n",
       "      <td>199</td>\n",
       "    </tr>\n",
       "    <tr>\n",
       "      <th>2</th>\n",
       "      <td>1</td>\n",
       "      <td>Кира</td>\n",
       "      <td>22</td>\n",
       "      <td>Тюмень</td>\n",
       "      <td>ultra</td>\n",
       "      <td>754.159807</td>\n",
       "      <td>6.232113</td>\n",
       "      <td>2021-04-20</td>\n",
       "      <td>4</td>\n",
       "      <td>6</td>\n",
       "      <td>0</td>\n",
       "      <td>199</td>\n",
       "    </tr>\n",
       "    <tr>\n",
       "      <th>3</th>\n",
       "      <td>1</td>\n",
       "      <td>Кира</td>\n",
       "      <td>22</td>\n",
       "      <td>Тюмень</td>\n",
       "      <td>ultra</td>\n",
       "      <td>2694.783254</td>\n",
       "      <td>18.511000</td>\n",
       "      <td>2021-08-11</td>\n",
       "      <td>8</td>\n",
       "      <td>6</td>\n",
       "      <td>0</td>\n",
       "      <td>199</td>\n",
       "    </tr>\n",
       "    <tr>\n",
       "      <th>4</th>\n",
       "      <td>1</td>\n",
       "      <td>Кира</td>\n",
       "      <td>22</td>\n",
       "      <td>Тюмень</td>\n",
       "      <td>ultra</td>\n",
       "      <td>4028.687306</td>\n",
       "      <td>26.265803</td>\n",
       "      <td>2021-08-28</td>\n",
       "      <td>8</td>\n",
       "      <td>6</td>\n",
       "      <td>0</td>\n",
       "      <td>199</td>\n",
       "    </tr>\n",
       "  </tbody>\n",
       "</table>\n",
       "</div>"
      ],
      "text/plain": [
       "   user_id  name  age    city subscription_type     distance   duration  \\\n",
       "0        1  Кира   22  Тюмень             ultra  4409.919140  25.599769   \n",
       "1        1  Кира   22  Тюмень             ultra  2617.592153  15.816871   \n",
       "2        1  Кира   22  Тюмень             ultra   754.159807   6.232113   \n",
       "3        1  Кира   22  Тюмень             ultra  2694.783254  18.511000   \n",
       "4        1  Кира   22  Тюмень             ultra  4028.687306  26.265803   \n",
       "\n",
       "        date  month  minute_price  start_ride_price  subscription_fee  \n",
       "0 2021-01-01      1             6                 0               199  \n",
       "1 2021-01-18      1             6                 0               199  \n",
       "2 2021-04-20      4             6                 0               199  \n",
       "3 2021-08-11      8             6                 0               199  \n",
       "4 2021-08-28      8             6                 0               199  "
      ]
     },
     "execution_count": 45,
     "metadata": {},
     "output_type": "execute_result"
    }
   ],
   "source": [
    "merged_users.head()"
   ]
  },
  {
   "cell_type": "code",
   "execution_count": 46,
   "id": "fb20da6f",
   "metadata": {},
   "outputs": [
    {
     "data": {
      "text/plain": [
       "user_id              0\n",
       "name                 0\n",
       "age                  0\n",
       "city                 0\n",
       "subscription_type    0\n",
       "distance             0\n",
       "duration             0\n",
       "date                 0\n",
       "month                0\n",
       "minute_price         0\n",
       "start_ride_price     0\n",
       "subscription_fee     0\n",
       "dtype: int64"
      ]
     },
     "execution_count": 46,
     "metadata": {},
     "output_type": "execute_result"
    }
   ],
   "source": [
    "merged_users.isna().sum()"
   ]
  },
  {
   "cell_type": "markdown",
   "id": "3da47f32",
   "metadata": {},
   "source": [
    "## 5.2 Создадим ещё два датафрейма из датафрейма, созданного на этапе 5.1:"
   ]
  },
  {
   "cell_type": "markdown",
   "id": "159d2914",
   "metadata": {},
   "source": [
    "c данными о пользователях без подписки;"
   ]
  },
  {
   "cell_type": "code",
   "execution_count": 47,
   "id": "d15a7b07",
   "metadata": {},
   "outputs": [
    {
     "data": {
      "text/html": [
       "<div>\n",
       "<style scoped>\n",
       "    .dataframe tbody tr th:only-of-type {\n",
       "        vertical-align: middle;\n",
       "    }\n",
       "\n",
       "    .dataframe tbody tr th {\n",
       "        vertical-align: top;\n",
       "    }\n",
       "\n",
       "    .dataframe thead th {\n",
       "        text-align: right;\n",
       "    }\n",
       "</style>\n",
       "<table border=\"1\" class=\"dataframe\">\n",
       "  <thead>\n",
       "    <tr style=\"text-align: right;\">\n",
       "      <th></th>\n",
       "      <th>user_id</th>\n",
       "      <th>name</th>\n",
       "      <th>age</th>\n",
       "      <th>city</th>\n",
       "      <th>subscription_type</th>\n",
       "      <th>distance</th>\n",
       "      <th>duration</th>\n",
       "      <th>date</th>\n",
       "      <th>month</th>\n",
       "      <th>minute_price</th>\n",
       "      <th>start_ride_price</th>\n",
       "      <th>subscription_fee</th>\n",
       "    </tr>\n",
       "  </thead>\n",
       "  <tbody>\n",
       "    <tr>\n",
       "      <th>15719</th>\n",
       "      <td>1358</td>\n",
       "      <td>Владимир</td>\n",
       "      <td>23</td>\n",
       "      <td>Тюмень</td>\n",
       "      <td>free</td>\n",
       "      <td>4385.761474</td>\n",
       "      <td>15.746137</td>\n",
       "      <td>2021-09-01</td>\n",
       "      <td>9</td>\n",
       "      <td>8</td>\n",
       "      <td>50</td>\n",
       "      <td>0</td>\n",
       "    </tr>\n",
       "    <tr>\n",
       "      <th>12536</th>\n",
       "      <td>1128</td>\n",
       "      <td>Георгий</td>\n",
       "      <td>27</td>\n",
       "      <td>Краснодар</td>\n",
       "      <td>free</td>\n",
       "      <td>1638.683414</td>\n",
       "      <td>18.681953</td>\n",
       "      <td>2021-01-12</td>\n",
       "      <td>1</td>\n",
       "      <td>8</td>\n",
       "      <td>50</td>\n",
       "      <td>0</td>\n",
       "    </tr>\n",
       "    <tr>\n",
       "      <th>15741</th>\n",
       "      <td>1359</td>\n",
       "      <td>Станислав</td>\n",
       "      <td>29</td>\n",
       "      <td>Сочи</td>\n",
       "      <td>free</td>\n",
       "      <td>2980.743300</td>\n",
       "      <td>23.258600</td>\n",
       "      <td>2021-12-26</td>\n",
       "      <td>12</td>\n",
       "      <td>8</td>\n",
       "      <td>50</td>\n",
       "      <td>0</td>\n",
       "    </tr>\n",
       "    <tr>\n",
       "      <th>16228</th>\n",
       "      <td>1393</td>\n",
       "      <td>Богдан</td>\n",
       "      <td>23</td>\n",
       "      <td>Краснодар</td>\n",
       "      <td>free</td>\n",
       "      <td>4008.045584</td>\n",
       "      <td>17.619309</td>\n",
       "      <td>2021-07-14</td>\n",
       "      <td>7</td>\n",
       "      <td>8</td>\n",
       "      <td>50</td>\n",
       "      <td>0</td>\n",
       "    </tr>\n",
       "    <tr>\n",
       "      <th>7851</th>\n",
       "      <td>785</td>\n",
       "      <td>Петр</td>\n",
       "      <td>28</td>\n",
       "      <td>Омск</td>\n",
       "      <td>free</td>\n",
       "      <td>2027.713213</td>\n",
       "      <td>21.060254</td>\n",
       "      <td>2021-09-10</td>\n",
       "      <td>9</td>\n",
       "      <td>8</td>\n",
       "      <td>50</td>\n",
       "      <td>0</td>\n",
       "    </tr>\n",
       "    <tr>\n",
       "      <th>14648</th>\n",
       "      <td>1275</td>\n",
       "      <td>Виталина</td>\n",
       "      <td>26</td>\n",
       "      <td>Тюмень</td>\n",
       "      <td>free</td>\n",
       "      <td>3905.604545</td>\n",
       "      <td>29.738305</td>\n",
       "      <td>2021-08-21</td>\n",
       "      <td>8</td>\n",
       "      <td>8</td>\n",
       "      <td>50</td>\n",
       "      <td>0</td>\n",
       "    </tr>\n",
       "    <tr>\n",
       "      <th>11732</th>\n",
       "      <td>1067</td>\n",
       "      <td>Мария</td>\n",
       "      <td>18</td>\n",
       "      <td>Омск</td>\n",
       "      <td>free</td>\n",
       "      <td>3414.561562</td>\n",
       "      <td>30.072808</td>\n",
       "      <td>2021-04-24</td>\n",
       "      <td>4</td>\n",
       "      <td>8</td>\n",
       "      <td>50</td>\n",
       "      <td>0</td>\n",
       "    </tr>\n",
       "    <tr>\n",
       "      <th>9807</th>\n",
       "      <td>929</td>\n",
       "      <td>Василина</td>\n",
       "      <td>23</td>\n",
       "      <td>Краснодар</td>\n",
       "      <td>free</td>\n",
       "      <td>3975.831369</td>\n",
       "      <td>20.541995</td>\n",
       "      <td>2021-03-11</td>\n",
       "      <td>3</td>\n",
       "      <td>8</td>\n",
       "      <td>50</td>\n",
       "      <td>0</td>\n",
       "    </tr>\n",
       "    <tr>\n",
       "      <th>11584</th>\n",
       "      <td>1056</td>\n",
       "      <td>Милена</td>\n",
       "      <td>27</td>\n",
       "      <td>Пятигорск</td>\n",
       "      <td>free</td>\n",
       "      <td>2829.717047</td>\n",
       "      <td>16.611439</td>\n",
       "      <td>2021-07-01</td>\n",
       "      <td>7</td>\n",
       "      <td>8</td>\n",
       "      <td>50</td>\n",
       "      <td>0</td>\n",
       "    </tr>\n",
       "    <tr>\n",
       "      <th>9449</th>\n",
       "      <td>906</td>\n",
       "      <td>Есения</td>\n",
       "      <td>32</td>\n",
       "      <td>Сочи</td>\n",
       "      <td>free</td>\n",
       "      <td>2567.986252</td>\n",
       "      <td>18.706636</td>\n",
       "      <td>2021-03-18</td>\n",
       "      <td>3</td>\n",
       "      <td>8</td>\n",
       "      <td>50</td>\n",
       "      <td>0</td>\n",
       "    </tr>\n",
       "  </tbody>\n",
       "</table>\n",
       "</div>"
      ],
      "text/plain": [
       "       user_id       name  age       city subscription_type     distance  \\\n",
       "15719     1358   Владимир   23     Тюмень              free  4385.761474   \n",
       "12536     1128    Георгий   27  Краснодар              free  1638.683414   \n",
       "15741     1359  Станислав   29       Сочи              free  2980.743300   \n",
       "16228     1393     Богдан   23  Краснодар              free  4008.045584   \n",
       "7851       785       Петр   28       Омск              free  2027.713213   \n",
       "14648     1275   Виталина   26     Тюмень              free  3905.604545   \n",
       "11732     1067      Мария   18       Омск              free  3414.561562   \n",
       "9807       929   Василина   23  Краснодар              free  3975.831369   \n",
       "11584     1056     Милена   27  Пятигорск              free  2829.717047   \n",
       "9449       906     Есения   32       Сочи              free  2567.986252   \n",
       "\n",
       "        duration       date  month  minute_price  start_ride_price  \\\n",
       "15719  15.746137 2021-09-01      9             8                50   \n",
       "12536  18.681953 2021-01-12      1             8                50   \n",
       "15741  23.258600 2021-12-26     12             8                50   \n",
       "16228  17.619309 2021-07-14      7             8                50   \n",
       "7851   21.060254 2021-09-10      9             8                50   \n",
       "14648  29.738305 2021-08-21      8             8                50   \n",
       "11732  30.072808 2021-04-24      4             8                50   \n",
       "9807   20.541995 2021-03-11      3             8                50   \n",
       "11584  16.611439 2021-07-01      7             8                50   \n",
       "9449   18.706636 2021-03-18      3             8                50   \n",
       "\n",
       "       subscription_fee  \n",
       "15719                 0  \n",
       "12536                 0  \n",
       "15741                 0  \n",
       "16228                 0  \n",
       "7851                  0  \n",
       "14648                 0  \n",
       "11732                 0  \n",
       "9807                  0  \n",
       "11584                 0  \n",
       "9449                  0  "
      ]
     },
     "execution_count": 47,
     "metadata": {},
     "output_type": "execute_result"
    }
   ],
   "source": [
    "users_free = merged_users[merged_users['subscription_type'] == 'free']\n",
    "users_free.sample(10)"
   ]
  },
  {
   "cell_type": "markdown",
   "id": "adcac754",
   "metadata": {},
   "source": [
    "с данными о пользователях с подпиской."
   ]
  },
  {
   "cell_type": "code",
   "execution_count": 48,
   "id": "c478d2f4",
   "metadata": {},
   "outputs": [
    {
     "data": {
      "text/html": [
       "<div>\n",
       "<style scoped>\n",
       "    .dataframe tbody tr th:only-of-type {\n",
       "        vertical-align: middle;\n",
       "    }\n",
       "\n",
       "    .dataframe tbody tr th {\n",
       "        vertical-align: top;\n",
       "    }\n",
       "\n",
       "    .dataframe thead th {\n",
       "        text-align: right;\n",
       "    }\n",
       "</style>\n",
       "<table border=\"1\" class=\"dataframe\">\n",
       "  <thead>\n",
       "    <tr style=\"text-align: right;\">\n",
       "      <th></th>\n",
       "      <th>user_id</th>\n",
       "      <th>name</th>\n",
       "      <th>age</th>\n",
       "      <th>city</th>\n",
       "      <th>subscription_type</th>\n",
       "      <th>distance</th>\n",
       "      <th>duration</th>\n",
       "      <th>date</th>\n",
       "      <th>month</th>\n",
       "      <th>minute_price</th>\n",
       "      <th>start_ride_price</th>\n",
       "      <th>subscription_fee</th>\n",
       "    </tr>\n",
       "  </thead>\n",
       "  <tbody>\n",
       "    <tr>\n",
       "      <th>5093</th>\n",
       "      <td>534</td>\n",
       "      <td>Дмитрий</td>\n",
       "      <td>33</td>\n",
       "      <td>Москва</td>\n",
       "      <td>ultra</td>\n",
       "      <td>4346.872294</td>\n",
       "      <td>23.062488</td>\n",
       "      <td>2021-06-23</td>\n",
       "      <td>6</td>\n",
       "      <td>6</td>\n",
       "      <td>0</td>\n",
       "      <td>199</td>\n",
       "    </tr>\n",
       "    <tr>\n",
       "      <th>1761</th>\n",
       "      <td>182</td>\n",
       "      <td>Агата</td>\n",
       "      <td>32</td>\n",
       "      <td>Краснодар</td>\n",
       "      <td>ultra</td>\n",
       "      <td>3341.869607</td>\n",
       "      <td>19.322298</td>\n",
       "      <td>2021-09-21</td>\n",
       "      <td>9</td>\n",
       "      <td>6</td>\n",
       "      <td>0</td>\n",
       "      <td>199</td>\n",
       "    </tr>\n",
       "    <tr>\n",
       "      <th>3856</th>\n",
       "      <td>402</td>\n",
       "      <td>Эльмира</td>\n",
       "      <td>21</td>\n",
       "      <td>Екатеринбург</td>\n",
       "      <td>ultra</td>\n",
       "      <td>3058.791486</td>\n",
       "      <td>17.795735</td>\n",
       "      <td>2021-06-01</td>\n",
       "      <td>6</td>\n",
       "      <td>6</td>\n",
       "      <td>0</td>\n",
       "      <td>199</td>\n",
       "    </tr>\n",
       "    <tr>\n",
       "      <th>3224</th>\n",
       "      <td>334</td>\n",
       "      <td>Мария</td>\n",
       "      <td>23</td>\n",
       "      <td>Тюмень</td>\n",
       "      <td>ultra</td>\n",
       "      <td>4222.038588</td>\n",
       "      <td>20.047226</td>\n",
       "      <td>2021-11-12</td>\n",
       "      <td>11</td>\n",
       "      <td>6</td>\n",
       "      <td>0</td>\n",
       "      <td>199</td>\n",
       "    </tr>\n",
       "    <tr>\n",
       "      <th>1302</th>\n",
       "      <td>134</td>\n",
       "      <td>Людмила</td>\n",
       "      <td>28</td>\n",
       "      <td>Москва</td>\n",
       "      <td>ultra</td>\n",
       "      <td>2918.105132</td>\n",
       "      <td>23.299195</td>\n",
       "      <td>2021-08-12</td>\n",
       "      <td>8</td>\n",
       "      <td>6</td>\n",
       "      <td>0</td>\n",
       "      <td>199</td>\n",
       "    </tr>\n",
       "    <tr>\n",
       "      <th>4524</th>\n",
       "      <td>472</td>\n",
       "      <td>Павел</td>\n",
       "      <td>27</td>\n",
       "      <td>Краснодар</td>\n",
       "      <td>ultra</td>\n",
       "      <td>2785.461155</td>\n",
       "      <td>20.141845</td>\n",
       "      <td>2021-04-09</td>\n",
       "      <td>4</td>\n",
       "      <td>6</td>\n",
       "      <td>0</td>\n",
       "      <td>199</td>\n",
       "    </tr>\n",
       "    <tr>\n",
       "      <th>1544</th>\n",
       "      <td>160</td>\n",
       "      <td>Евгения</td>\n",
       "      <td>25</td>\n",
       "      <td>Краснодар</td>\n",
       "      <td>ultra</td>\n",
       "      <td>2350.944030</td>\n",
       "      <td>8.642266</td>\n",
       "      <td>2021-02-24</td>\n",
       "      <td>2</td>\n",
       "      <td>6</td>\n",
       "      <td>0</td>\n",
       "      <td>199</td>\n",
       "    </tr>\n",
       "    <tr>\n",
       "      <th>4945</th>\n",
       "      <td>518</td>\n",
       "      <td>Алиса</td>\n",
       "      <td>22</td>\n",
       "      <td>Ростов-на-Дону</td>\n",
       "      <td>ultra</td>\n",
       "      <td>4081.456628</td>\n",
       "      <td>32.488740</td>\n",
       "      <td>2021-01-10</td>\n",
       "      <td>1</td>\n",
       "      <td>6</td>\n",
       "      <td>0</td>\n",
       "      <td>199</td>\n",
       "    </tr>\n",
       "    <tr>\n",
       "      <th>5745</th>\n",
       "      <td>598</td>\n",
       "      <td>Кира</td>\n",
       "      <td>21</td>\n",
       "      <td>Пятигорск</td>\n",
       "      <td>ultra</td>\n",
       "      <td>3348.753129</td>\n",
       "      <td>14.819129</td>\n",
       "      <td>2021-07-16</td>\n",
       "      <td>7</td>\n",
       "      <td>6</td>\n",
       "      <td>0</td>\n",
       "      <td>199</td>\n",
       "    </tr>\n",
       "    <tr>\n",
       "      <th>4510</th>\n",
       "      <td>470</td>\n",
       "      <td>Ростислав</td>\n",
       "      <td>25</td>\n",
       "      <td>Краснодар</td>\n",
       "      <td>ultra</td>\n",
       "      <td>1412.437958</td>\n",
       "      <td>16.296642</td>\n",
       "      <td>2021-11-19</td>\n",
       "      <td>11</td>\n",
       "      <td>6</td>\n",
       "      <td>0</td>\n",
       "      <td>199</td>\n",
       "    </tr>\n",
       "  </tbody>\n",
       "</table>\n",
       "</div>"
      ],
      "text/plain": [
       "      user_id       name  age            city subscription_type     distance  \\\n",
       "5093      534    Дмитрий   33          Москва             ultra  4346.872294   \n",
       "1761      182      Агата   32       Краснодар             ultra  3341.869607   \n",
       "3856      402    Эльмира   21    Екатеринбург             ultra  3058.791486   \n",
       "3224      334      Мария   23          Тюмень             ultra  4222.038588   \n",
       "1302      134    Людмила   28          Москва             ultra  2918.105132   \n",
       "4524      472      Павел   27       Краснодар             ultra  2785.461155   \n",
       "1544      160    Евгения   25       Краснодар             ultra  2350.944030   \n",
       "4945      518      Алиса   22  Ростов-на-Дону             ultra  4081.456628   \n",
       "5745      598       Кира   21       Пятигорск             ultra  3348.753129   \n",
       "4510      470  Ростислав   25       Краснодар             ultra  1412.437958   \n",
       "\n",
       "       duration       date  month  minute_price  start_ride_price  \\\n",
       "5093  23.062488 2021-06-23      6             6                 0   \n",
       "1761  19.322298 2021-09-21      9             6                 0   \n",
       "3856  17.795735 2021-06-01      6             6                 0   \n",
       "3224  20.047226 2021-11-12     11             6                 0   \n",
       "1302  23.299195 2021-08-12      8             6                 0   \n",
       "4524  20.141845 2021-04-09      4             6                 0   \n",
       "1544   8.642266 2021-02-24      2             6                 0   \n",
       "4945  32.488740 2021-01-10      1             6                 0   \n",
       "5745  14.819129 2021-07-16      7             6                 0   \n",
       "4510  16.296642 2021-11-19     11             6                 0   \n",
       "\n",
       "      subscription_fee  \n",
       "5093               199  \n",
       "1761               199  \n",
       "3856               199  \n",
       "3224               199  \n",
       "1302               199  \n",
       "4524               199  \n",
       "1544               199  \n",
       "4945               199  \n",
       "5745               199  \n",
       "4510               199  "
      ]
     },
     "execution_count": 48,
     "metadata": {},
     "output_type": "execute_result"
    }
   ],
   "source": [
    "users_ultra = merged_users[merged_users['subscription_type'] == 'ultra']\n",
    "users_ultra.sample(10)"
   ]
  },
  {
   "cell_type": "markdown",
   "id": "20cfd6fe",
   "metadata": {},
   "source": [
    "## 5.3 Визуализация информации о расстоянии и времени поездок для пользователей обеих категорий"
   ]
  },
  {
   "cell_type": "code",
   "execution_count": 49,
   "id": "407e4c9e",
   "metadata": {},
   "outputs": [
    {
     "data": {
      "image/png": "[encoded data removed]",
      "text/plain": [
       "<Figure size 432x288 with 1 Axes>"
      ]
     },
     "metadata": {
      "needs_background": "light"
     },
     "output_type": "display_data"
    }
   ],
   "source": [
    "users_free['distance'].hist(bins=100);\n",
    "users_ultra['distance'].hist(bins=100);"
   ]
  },
  {
   "cell_type": "code",
   "execution_count": 50,
   "id": "fe7cb1c3",
   "metadata": {},
   "outputs": [
    {
     "data": {
      "text/plain": [
       "count    11543.000000\n",
       "mean      3089.389043\n",
       "std       1202.128363\n",
       "min        200.034777\n",
       "25%       2402.642050\n",
       "50%       3136.095431\n",
       "75%       3919.993812\n",
       "max       7211.007745\n",
       "Name: distance, dtype: float64"
      ]
     },
     "execution_count": 50,
     "metadata": {},
     "output_type": "execute_result"
    }
   ],
   "source": [
    "users_free['distance'].describe()"
   ]
  },
  {
   "cell_type": "code",
   "execution_count": 51,
   "id": "ce7e2667",
   "metadata": {},
   "outputs": [
    {
     "data": {
      "text/plain": [
       "count    6672.000000\n",
       "mean     3115.434963\n",
       "std       836.686986\n",
       "min       244.210438\n",
       "25%      2785.359959\n",
       "50%      3148.731011\n",
       "75%      3559.725229\n",
       "max      5699.769662\n",
       "Name: distance, dtype: float64"
      ]
     },
     "execution_count": 51,
     "metadata": {},
     "output_type": "execute_result"
    }
   ],
   "source": [
    "users_ultra['distance'].describe()"
   ]
  },
  {
   "cell_type": "code",
   "execution_count": 52,
   "id": "7672fb47",
   "metadata": {},
   "outputs": [
    {
     "data": {
      "image/png": "[encoded data removed]",
      "text/plain": [
       "<Figure size 432x288 with 1 Axes>"
      ]
     },
     "metadata": {
      "needs_background": "light"
     },
     "output_type": "display_data"
    }
   ],
   "source": [
    "users_free['duration'].hist(bins=100);\n",
    "users_ultra['duration'].hist(bins=100);"
   ]
  },
  {
   "cell_type": "code",
   "execution_count": 53,
   "id": "3f69a66c",
   "metadata": {},
   "outputs": [
    {
     "data": {
      "text/plain": [
       "count    11543.000000\n",
       "mean        17.674307\n",
       "std          6.058844\n",
       "min          2.480577\n",
       "25%         13.305616\n",
       "50%         17.576376\n",
       "75%         21.679843\n",
       "max         34.948498\n",
       "Name: duration, dtype: float64"
      ]
     },
     "execution_count": 53,
     "metadata": {},
     "output_type": "execute_result"
    }
   ],
   "source": [
    "users_free['duration'].describe()"
   ]
  },
  {
   "cell_type": "code",
   "execution_count": 54,
   "id": "63db59ea",
   "metadata": {},
   "outputs": [
    {
     "data": {
      "text/plain": [
       "count    6672.000000\n",
       "mean       18.531419\n",
       "std         5.572656\n",
       "min         3.760353\n",
       "25%        14.498947\n",
       "50%        18.178153\n",
       "75%        21.887063\n",
       "max        40.823963\n",
       "Name: duration, dtype: float64"
      ]
     },
     "execution_count": 54,
     "metadata": {},
     "output_type": "execute_result"
    }
   ],
   "source": [
    "users_ultra['duration'].describe()"
   ]
  },
  {
   "cell_type": "markdown",
   "id": "3c0899e1",
   "metadata": {},
   "source": [
    "По гистограммам можно сделать вывод о схожем характере продолжительности и дистанции поездки для пользователей с подпиской и без"
   ]
  },
  {
   "cell_type": "markdown",
   "id": "761b327b",
   "metadata": {},
   "source": [
    "# 6. Подсчёт выручки"
   ]
  },
  {
   "cell_type": "markdown",
   "id": "595aa2f5",
   "metadata": {},
   "source": [
    "## 6.1. Cуммарное расстояние, количество поездок и суммарное время для каждого пользователя за каждый месяц"
   ]
  },
  {
   "cell_type": "markdown",
   "id": "c4d06c09",
   "metadata": {},
   "source": [
    "Создайте датафрейм с агрегированными данными о поездках на основе датафрейма с объединёнными данными из шага 5"
   ]
  },
  {
   "cell_type": "code",
   "execution_count": 55,
   "id": "e0bc0a08",
   "metadata": {},
   "outputs": [],
   "source": [
    "merged_users['duration'] = np.ceil(merged_users['duration']) "
   ]
  },
  {
   "cell_type": "code",
   "execution_count": 56,
   "id": "3f9489ce",
   "metadata": {},
   "outputs": [],
   "source": [
    "result= merged_users.groupby(['user_id', 'month'])"
   ]
  },
  {
   "cell_type": "code",
   "execution_count": 57,
   "id": "a1e8082f",
   "metadata": {},
   "outputs": [],
   "source": [
    "def sums(df:pd.DataFrame) -> pd.DataFrame:    \n",
    "    for user in df.user_id.unique():  \n",
    "            table = df[df['user_id'] == user]\n",
    "            df.loc[df.user_id == user, 'distance_sum'] =  table.distance.sum()\n",
    "            df.loc[df.user_id == user, 'duration_sum'] =  table.duration.sum()\n",
    "            df.loc[df.user_id == user, 'number_of_rides'] = table.shape[0]\n",
    "    df['number_of_rides'] = df['number_of_rides'].astype(int)\n",
    "    return df"
   ]
  },
  {
   "cell_type": "code",
   "execution_count": 58,
   "id": "a642620b",
   "metadata": {},
   "outputs": [],
   "source": [
    "result = sums(merged_users)"
   ]
  },
  {
   "cell_type": "code",
   "execution_count": 59,
   "id": "d9abf63b",
   "metadata": {},
   "outputs": [
    {
     "name": "stdout",
     "output_type": "stream",
     "text": [
      "<class 'pandas.core.frame.DataFrame'>\n",
      "Int64Index: 18215 entries, 0 to 18214\n",
      "Data columns (total 15 columns):\n",
      " #   Column             Non-Null Count  Dtype         \n",
      "---  ------             --------------  -----         \n",
      " 0   user_id            18215 non-null  int64         \n",
      " 1   name               18215 non-null  object        \n",
      " 2   age                18215 non-null  int64         \n",
      " 3   city               18215 non-null  object        \n",
      " 4   subscription_type  18215 non-null  object        \n",
      " 5   distance           18215 non-null  float64       \n",
      " 6   duration           18215 non-null  float64       \n",
      " 7   date               18215 non-null  datetime64[ns]\n",
      " 8   month              18215 non-null  int64         \n",
      " 9   minute_price       18215 non-null  int64         \n",
      " 10  start_ride_price   18215 non-null  int64         \n",
      " 11  subscription_fee   18215 non-null  int64         \n",
      " 12  distance_sum       18215 non-null  float64       \n",
      " 13  duration_sum       18215 non-null  float64       \n",
      " 14  number_of_rides    18215 non-null  int32         \n",
      "dtypes: datetime64[ns](1), float64(4), int32(1), int64(6), object(3)\n",
      "memory usage: 2.2+ MB\n"
     ]
    },
    {
     "data": {
      "text/html": [
       "<div>\n",
       "<style scoped>\n",
       "    .dataframe tbody tr th:only-of-type {\n",
       "        vertical-align: middle;\n",
       "    }\n",
       "\n",
       "    .dataframe tbody tr th {\n",
       "        vertical-align: top;\n",
       "    }\n",
       "\n",
       "    .dataframe thead th {\n",
       "        text-align: right;\n",
       "    }\n",
       "</style>\n",
       "<table border=\"1\" class=\"dataframe\">\n",
       "  <thead>\n",
       "    <tr style=\"text-align: right;\">\n",
       "      <th></th>\n",
       "      <th>user_id</th>\n",
       "      <th>name</th>\n",
       "      <th>age</th>\n",
       "      <th>city</th>\n",
       "      <th>subscription_type</th>\n",
       "      <th>distance</th>\n",
       "      <th>duration</th>\n",
       "      <th>date</th>\n",
       "      <th>month</th>\n",
       "      <th>minute_price</th>\n",
       "      <th>start_ride_price</th>\n",
       "      <th>subscription_fee</th>\n",
       "      <th>distance_sum</th>\n",
       "      <th>duration_sum</th>\n",
       "      <th>number_of_rides</th>\n",
       "    </tr>\n",
       "  </thead>\n",
       "  <tbody>\n",
       "    <tr>\n",
       "      <th>6348</th>\n",
       "      <td>663</td>\n",
       "      <td>Евгения</td>\n",
       "      <td>24</td>\n",
       "      <td>Москва</td>\n",
       "      <td>ultra</td>\n",
       "      <td>4238.190733</td>\n",
       "      <td>16.0</td>\n",
       "      <td>2021-04-15</td>\n",
       "      <td>4</td>\n",
       "      <td>6</td>\n",
       "      <td>0</td>\n",
       "      <td>199</td>\n",
       "      <td>17733.145474</td>\n",
       "      <td>86.0</td>\n",
       "      <td>5</td>\n",
       "    </tr>\n",
       "    <tr>\n",
       "      <th>12139</th>\n",
       "      <td>1097</td>\n",
       "      <td>Игнат</td>\n",
       "      <td>25</td>\n",
       "      <td>Сочи</td>\n",
       "      <td>free</td>\n",
       "      <td>3143.720584</td>\n",
       "      <td>19.0</td>\n",
       "      <td>2021-12-19</td>\n",
       "      <td>12</td>\n",
       "      <td>8</td>\n",
       "      <td>50</td>\n",
       "      <td>0</td>\n",
       "      <td>37525.981639</td>\n",
       "      <td>208.0</td>\n",
       "      <td>12</td>\n",
       "    </tr>\n",
       "    <tr>\n",
       "      <th>17185</th>\n",
       "      <td>1461</td>\n",
       "      <td>Вероника</td>\n",
       "      <td>19</td>\n",
       "      <td>Москва</td>\n",
       "      <td>free</td>\n",
       "      <td>2584.864860</td>\n",
       "      <td>17.0</td>\n",
       "      <td>2021-01-24</td>\n",
       "      <td>1</td>\n",
       "      <td>8</td>\n",
       "      <td>50</td>\n",
       "      <td>0</td>\n",
       "      <td>22289.581686</td>\n",
       "      <td>122.0</td>\n",
       "      <td>7</td>\n",
       "    </tr>\n",
       "    <tr>\n",
       "      <th>4350</th>\n",
       "      <td>454</td>\n",
       "      <td>Вероника</td>\n",
       "      <td>38</td>\n",
       "      <td>Краснодар</td>\n",
       "      <td>ultra</td>\n",
       "      <td>3141.965815</td>\n",
       "      <td>21.0</td>\n",
       "      <td>2021-09-11</td>\n",
       "      <td>9</td>\n",
       "      <td>6</td>\n",
       "      <td>0</td>\n",
       "      <td>199</td>\n",
       "      <td>21336.381643</td>\n",
       "      <td>151.0</td>\n",
       "      <td>7</td>\n",
       "    </tr>\n",
       "    <tr>\n",
       "      <th>4262</th>\n",
       "      <td>445</td>\n",
       "      <td>Людмила</td>\n",
       "      <td>26</td>\n",
       "      <td>Москва</td>\n",
       "      <td>ultra</td>\n",
       "      <td>1636.633797</td>\n",
       "      <td>22.0</td>\n",
       "      <td>2021-04-29</td>\n",
       "      <td>4</td>\n",
       "      <td>6</td>\n",
       "      <td>0</td>\n",
       "      <td>199</td>\n",
       "      <td>23868.218784</td>\n",
       "      <td>162.0</td>\n",
       "      <td>8</td>\n",
       "    </tr>\n",
       "    <tr>\n",
       "      <th>11996</th>\n",
       "      <td>1087</td>\n",
       "      <td>Петр</td>\n",
       "      <td>29</td>\n",
       "      <td>Ростов-на-Дону</td>\n",
       "      <td>free</td>\n",
       "      <td>4471.497111</td>\n",
       "      <td>25.0</td>\n",
       "      <td>2021-04-26</td>\n",
       "      <td>4</td>\n",
       "      <td>8</td>\n",
       "      <td>50</td>\n",
       "      <td>0</td>\n",
       "      <td>46629.019554</td>\n",
       "      <td>278.0</td>\n",
       "      <td>17</td>\n",
       "    </tr>\n",
       "    <tr>\n",
       "      <th>474</th>\n",
       "      <td>49</td>\n",
       "      <td>Одиссей</td>\n",
       "      <td>17</td>\n",
       "      <td>Ростов-на-Дону</td>\n",
       "      <td>ultra</td>\n",
       "      <td>3134.361969</td>\n",
       "      <td>23.0</td>\n",
       "      <td>2021-04-10</td>\n",
       "      <td>4</td>\n",
       "      <td>6</td>\n",
       "      <td>0</td>\n",
       "      <td>199</td>\n",
       "      <td>32309.366217</td>\n",
       "      <td>223.0</td>\n",
       "      <td>11</td>\n",
       "    </tr>\n",
       "    <tr>\n",
       "      <th>12752</th>\n",
       "      <td>1144</td>\n",
       "      <td>Герман</td>\n",
       "      <td>28</td>\n",
       "      <td>Тюмень</td>\n",
       "      <td>free</td>\n",
       "      <td>2335.947244</td>\n",
       "      <td>11.0</td>\n",
       "      <td>2021-07-20</td>\n",
       "      <td>7</td>\n",
       "      <td>8</td>\n",
       "      <td>50</td>\n",
       "      <td>0</td>\n",
       "      <td>25272.319118</td>\n",
       "      <td>157.0</td>\n",
       "      <td>9</td>\n",
       "    </tr>\n",
       "    <tr>\n",
       "      <th>16603</th>\n",
       "      <td>1419</td>\n",
       "      <td>Яромир</td>\n",
       "      <td>21</td>\n",
       "      <td>Екатеринбург</td>\n",
       "      <td>free</td>\n",
       "      <td>4206.807520</td>\n",
       "      <td>31.0</td>\n",
       "      <td>2021-05-29</td>\n",
       "      <td>5</td>\n",
       "      <td>8</td>\n",
       "      <td>50</td>\n",
       "      <td>0</td>\n",
       "      <td>71033.076715</td>\n",
       "      <td>410.0</td>\n",
       "      <td>20</td>\n",
       "    </tr>\n",
       "    <tr>\n",
       "      <th>7417</th>\n",
       "      <td>752</td>\n",
       "      <td>Роберт</td>\n",
       "      <td>26</td>\n",
       "      <td>Ростов-на-Дону</td>\n",
       "      <td>free</td>\n",
       "      <td>287.196977</td>\n",
       "      <td>16.0</td>\n",
       "      <td>2021-05-24</td>\n",
       "      <td>5</td>\n",
       "      <td>8</td>\n",
       "      <td>50</td>\n",
       "      <td>0</td>\n",
       "      <td>27582.927876</td>\n",
       "      <td>186.0</td>\n",
       "      <td>11</td>\n",
       "    </tr>\n",
       "  </tbody>\n",
       "</table>\n",
       "</div>"
      ],
      "text/plain": [
       "       user_id      name  age            city subscription_type     distance  \\\n",
       "6348       663   Евгения   24          Москва             ultra  4238.190733   \n",
       "12139     1097     Игнат   25            Сочи              free  3143.720584   \n",
       "17185     1461  Вероника   19          Москва              free  2584.864860   \n",
       "4350       454  Вероника   38       Краснодар             ultra  3141.965815   \n",
       "4262       445   Людмила   26          Москва             ultra  1636.633797   \n",
       "11996     1087      Петр   29  Ростов-на-Дону              free  4471.497111   \n",
       "474         49   Одиссей   17  Ростов-на-Дону             ultra  3134.361969   \n",
       "12752     1144    Герман   28          Тюмень              free  2335.947244   \n",
       "16603     1419    Яромир   21    Екатеринбург              free  4206.807520   \n",
       "7417       752    Роберт   26  Ростов-на-Дону              free   287.196977   \n",
       "\n",
       "       duration       date  month  minute_price  start_ride_price  \\\n",
       "6348       16.0 2021-04-15      4             6                 0   \n",
       "12139      19.0 2021-12-19     12             8                50   \n",
       "17185      17.0 2021-01-24      1             8                50   \n",
       "4350       21.0 2021-09-11      9             6                 0   \n",
       "4262       22.0 2021-04-29      4             6                 0   \n",
       "11996      25.0 2021-04-26      4             8                50   \n",
       "474        23.0 2021-04-10      4             6                 0   \n",
       "12752      11.0 2021-07-20      7             8                50   \n",
       "16603      31.0 2021-05-29      5             8                50   \n",
       "7417       16.0 2021-05-24      5             8                50   \n",
       "\n",
       "       subscription_fee  distance_sum  duration_sum  number_of_rides  \n",
       "6348                199  17733.145474          86.0                5  \n",
       "12139                 0  37525.981639         208.0               12  \n",
       "17185                 0  22289.581686         122.0                7  \n",
       "4350                199  21336.381643         151.0                7  \n",
       "4262                199  23868.218784         162.0                8  \n",
       "11996                 0  46629.019554         278.0               17  \n",
       "474                 199  32309.366217         223.0               11  \n",
       "12752                 0  25272.319118         157.0                9  \n",
       "16603                 0  71033.076715         410.0               20  \n",
       "7417                  0  27582.927876         186.0               11  "
      ]
     },
     "execution_count": 59,
     "metadata": {},
     "output_type": "execute_result"
    }
   ],
   "source": [
    "result.info()\n",
    "result.sample(10)"
   ]
  },
  {
   "cell_type": "markdown",
   "id": "ca8e6fdb",
   "metadata": {},
   "source": [
    "## 6.2. Помесячная выручка"
   ]
  },
  {
   "cell_type": "code",
   "execution_count": 60,
   "id": "4cf1a237",
   "metadata": {},
   "outputs": [
    {
     "name": "stdout",
     "output_type": "stream",
     "text": [
      "<class 'pandas.core.frame.DataFrame'>\n",
      "Int64Index: 18215 entries, 0 to 18214\n",
      "Data columns (total 15 columns):\n",
      " #   Column             Non-Null Count  Dtype         \n",
      "---  ------             --------------  -----         \n",
      " 0   user_id            18215 non-null  int64         \n",
      " 1   name               18215 non-null  object        \n",
      " 2   age                18215 non-null  int64         \n",
      " 3   city               18215 non-null  object        \n",
      " 4   subscription_type  18215 non-null  object        \n",
      " 5   distance           18215 non-null  float64       \n",
      " 6   duration           18215 non-null  float64       \n",
      " 7   date               18215 non-null  datetime64[ns]\n",
      " 8   month              18215 non-null  int64         \n",
      " 9   minute_price       18215 non-null  int64         \n",
      " 10  start_ride_price   18215 non-null  int64         \n",
      " 11  subscription_fee   18215 non-null  int64         \n",
      " 12  distance_sum       18215 non-null  float64       \n",
      " 13  duration_sum       18215 non-null  float64       \n",
      " 14  number_of_rides    18215 non-null  int32         \n",
      "dtypes: datetime64[ns](1), float64(4), int32(1), int64(6), object(3)\n",
      "memory usage: 2.2+ MB\n"
     ]
    }
   ],
   "source": [
    "result.info()"
   ]
  },
  {
   "cell_type": "code",
   "execution_count": 61,
   "id": "f8bb1c0e",
   "metadata": {},
   "outputs": [],
   "source": [
    "def profit(df:pd.DataFrame) -> pd.DataFrame:\n",
    "    for user_id in df.user_id.unique():  \n",
    "            table = df[df['user_id'] == user_id]\n",
    "            df.loc[df.user_id == user_id, 'profit'] = (table['start_ride_price'].mean() *  table.shape[0] +\n",
    "                table.duration.sum() * table['minute_price'].mean()\n",
    "                                                       + table['subscription_fee'].mean())\n",
    "                                                     \n",
    "                                   \n",
    "    \n",
    "    return result"
   ]
  },
  {
   "cell_type": "code",
   "execution_count": 62,
   "id": "d99a1928",
   "metadata": {},
   "outputs": [
    {
     "data": {
      "text/html": [
       "<div>\n",
       "<style scoped>\n",
       "    .dataframe tbody tr th:only-of-type {\n",
       "        vertical-align: middle;\n",
       "    }\n",
       "\n",
       "    .dataframe tbody tr th {\n",
       "        vertical-align: top;\n",
       "    }\n",
       "\n",
       "    .dataframe thead th {\n",
       "        text-align: right;\n",
       "    }\n",
       "</style>\n",
       "<table border=\"1\" class=\"dataframe\">\n",
       "  <thead>\n",
       "    <tr style=\"text-align: right;\">\n",
       "      <th></th>\n",
       "      <th>user_id</th>\n",
       "      <th>name</th>\n",
       "      <th>age</th>\n",
       "      <th>city</th>\n",
       "      <th>subscription_type</th>\n",
       "      <th>distance</th>\n",
       "      <th>duration</th>\n",
       "      <th>date</th>\n",
       "      <th>month</th>\n",
       "      <th>minute_price</th>\n",
       "      <th>start_ride_price</th>\n",
       "      <th>subscription_fee</th>\n",
       "      <th>distance_sum</th>\n",
       "      <th>duration_sum</th>\n",
       "      <th>number_of_rides</th>\n",
       "      <th>profit</th>\n",
       "    </tr>\n",
       "  </thead>\n",
       "  <tbody>\n",
       "    <tr>\n",
       "      <th>0</th>\n",
       "      <td>1</td>\n",
       "      <td>Кира</td>\n",
       "      <td>22</td>\n",
       "      <td>Тюмень</td>\n",
       "      <td>ultra</td>\n",
       "      <td>4409.919140</td>\n",
       "      <td>26.0</td>\n",
       "      <td>2021-01-01</td>\n",
       "      <td>1</td>\n",
       "      <td>6</td>\n",
       "      <td>0</td>\n",
       "      <td>199</td>\n",
       "      <td>34070.182066</td>\n",
       "      <td>211.0</td>\n",
       "      <td>12</td>\n",
       "      <td>1465.0</td>\n",
       "    </tr>\n",
       "    <tr>\n",
       "      <th>1</th>\n",
       "      <td>1</td>\n",
       "      <td>Кира</td>\n",
       "      <td>22</td>\n",
       "      <td>Тюмень</td>\n",
       "      <td>ultra</td>\n",
       "      <td>2617.592153</td>\n",
       "      <td>16.0</td>\n",
       "      <td>2021-01-18</td>\n",
       "      <td>1</td>\n",
       "      <td>6</td>\n",
       "      <td>0</td>\n",
       "      <td>199</td>\n",
       "      <td>34070.182066</td>\n",
       "      <td>211.0</td>\n",
       "      <td>12</td>\n",
       "      <td>1465.0</td>\n",
       "    </tr>\n",
       "    <tr>\n",
       "      <th>2</th>\n",
       "      <td>1</td>\n",
       "      <td>Кира</td>\n",
       "      <td>22</td>\n",
       "      <td>Тюмень</td>\n",
       "      <td>ultra</td>\n",
       "      <td>754.159807</td>\n",
       "      <td>7.0</td>\n",
       "      <td>2021-04-20</td>\n",
       "      <td>4</td>\n",
       "      <td>6</td>\n",
       "      <td>0</td>\n",
       "      <td>199</td>\n",
       "      <td>34070.182066</td>\n",
       "      <td>211.0</td>\n",
       "      <td>12</td>\n",
       "      <td>1465.0</td>\n",
       "    </tr>\n",
       "    <tr>\n",
       "      <th>3</th>\n",
       "      <td>1</td>\n",
       "      <td>Кира</td>\n",
       "      <td>22</td>\n",
       "      <td>Тюмень</td>\n",
       "      <td>ultra</td>\n",
       "      <td>2694.783254</td>\n",
       "      <td>19.0</td>\n",
       "      <td>2021-08-11</td>\n",
       "      <td>8</td>\n",
       "      <td>6</td>\n",
       "      <td>0</td>\n",
       "      <td>199</td>\n",
       "      <td>34070.182066</td>\n",
       "      <td>211.0</td>\n",
       "      <td>12</td>\n",
       "      <td>1465.0</td>\n",
       "    </tr>\n",
       "    <tr>\n",
       "      <th>4</th>\n",
       "      <td>1</td>\n",
       "      <td>Кира</td>\n",
       "      <td>22</td>\n",
       "      <td>Тюмень</td>\n",
       "      <td>ultra</td>\n",
       "      <td>4028.687306</td>\n",
       "      <td>27.0</td>\n",
       "      <td>2021-08-28</td>\n",
       "      <td>8</td>\n",
       "      <td>6</td>\n",
       "      <td>0</td>\n",
       "      <td>199</td>\n",
       "      <td>34070.182066</td>\n",
       "      <td>211.0</td>\n",
       "      <td>12</td>\n",
       "      <td>1465.0</td>\n",
       "    </tr>\n",
       "    <tr>\n",
       "      <th>...</th>\n",
       "      <td>...</td>\n",
       "      <td>...</td>\n",
       "      <td>...</td>\n",
       "      <td>...</td>\n",
       "      <td>...</td>\n",
       "      <td>...</td>\n",
       "      <td>...</td>\n",
       "      <td>...</td>\n",
       "      <td>...</td>\n",
       "      <td>...</td>\n",
       "      <td>...</td>\n",
       "      <td>...</td>\n",
       "      <td>...</td>\n",
       "      <td>...</td>\n",
       "      <td>...</td>\n",
       "      <td>...</td>\n",
       "    </tr>\n",
       "    <tr>\n",
       "      <th>18210</th>\n",
       "      <td>1534</td>\n",
       "      <td>Альберт</td>\n",
       "      <td>25</td>\n",
       "      <td>Краснодар</td>\n",
       "      <td>free</td>\n",
       "      <td>3781.098080</td>\n",
       "      <td>20.0</td>\n",
       "      <td>2021-11-04</td>\n",
       "      <td>11</td>\n",
       "      <td>8</td>\n",
       "      <td>50</td>\n",
       "      <td>0</td>\n",
       "      <td>41702.995378</td>\n",
       "      <td>229.0</td>\n",
       "      <td>12</td>\n",
       "      <td>2432.0</td>\n",
       "    </tr>\n",
       "    <tr>\n",
       "      <th>18211</th>\n",
       "      <td>1534</td>\n",
       "      <td>Альберт</td>\n",
       "      <td>25</td>\n",
       "      <td>Краснодар</td>\n",
       "      <td>free</td>\n",
       "      <td>2840.423057</td>\n",
       "      <td>22.0</td>\n",
       "      <td>2021-11-16</td>\n",
       "      <td>11</td>\n",
       "      <td>8</td>\n",
       "      <td>50</td>\n",
       "      <td>0</td>\n",
       "      <td>41702.995378</td>\n",
       "      <td>229.0</td>\n",
       "      <td>12</td>\n",
       "      <td>2432.0</td>\n",
       "    </tr>\n",
       "    <tr>\n",
       "      <th>18212</th>\n",
       "      <td>1534</td>\n",
       "      <td>Альберт</td>\n",
       "      <td>25</td>\n",
       "      <td>Краснодар</td>\n",
       "      <td>free</td>\n",
       "      <td>3826.185507</td>\n",
       "      <td>19.0</td>\n",
       "      <td>2021-11-18</td>\n",
       "      <td>11</td>\n",
       "      <td>8</td>\n",
       "      <td>50</td>\n",
       "      <td>0</td>\n",
       "      <td>41702.995378</td>\n",
       "      <td>229.0</td>\n",
       "      <td>12</td>\n",
       "      <td>2432.0</td>\n",
       "    </tr>\n",
       "    <tr>\n",
       "      <th>18213</th>\n",
       "      <td>1534</td>\n",
       "      <td>Альберт</td>\n",
       "      <td>25</td>\n",
       "      <td>Краснодар</td>\n",
       "      <td>free</td>\n",
       "      <td>2902.308661</td>\n",
       "      <td>17.0</td>\n",
       "      <td>2021-11-27</td>\n",
       "      <td>11</td>\n",
       "      <td>8</td>\n",
       "      <td>50</td>\n",
       "      <td>0</td>\n",
       "      <td>41702.995378</td>\n",
       "      <td>229.0</td>\n",
       "      <td>12</td>\n",
       "      <td>2432.0</td>\n",
       "    </tr>\n",
       "    <tr>\n",
       "      <th>18214</th>\n",
       "      <td>1534</td>\n",
       "      <td>Альберт</td>\n",
       "      <td>25</td>\n",
       "      <td>Краснодар</td>\n",
       "      <td>free</td>\n",
       "      <td>2371.711192</td>\n",
       "      <td>16.0</td>\n",
       "      <td>2021-12-29</td>\n",
       "      <td>12</td>\n",
       "      <td>8</td>\n",
       "      <td>50</td>\n",
       "      <td>0</td>\n",
       "      <td>41702.995378</td>\n",
       "      <td>229.0</td>\n",
       "      <td>12</td>\n",
       "      <td>2432.0</td>\n",
       "    </tr>\n",
       "  </tbody>\n",
       "</table>\n",
       "<p>18215 rows × 16 columns</p>\n",
       "</div>"
      ],
      "text/plain": [
       "       user_id     name  age       city subscription_type     distance  \\\n",
       "0            1     Кира   22     Тюмень             ultra  4409.919140   \n",
       "1            1     Кира   22     Тюмень             ultra  2617.592153   \n",
       "2            1     Кира   22     Тюмень             ultra   754.159807   \n",
       "3            1     Кира   22     Тюмень             ultra  2694.783254   \n",
       "4            1     Кира   22     Тюмень             ultra  4028.687306   \n",
       "...        ...      ...  ...        ...               ...          ...   \n",
       "18210     1534  Альберт   25  Краснодар              free  3781.098080   \n",
       "18211     1534  Альберт   25  Краснодар              free  2840.423057   \n",
       "18212     1534  Альберт   25  Краснодар              free  3826.185507   \n",
       "18213     1534  Альберт   25  Краснодар              free  2902.308661   \n",
       "18214     1534  Альберт   25  Краснодар              free  2371.711192   \n",
       "\n",
       "       duration       date  month  minute_price  start_ride_price  \\\n",
       "0          26.0 2021-01-01      1             6                 0   \n",
       "1          16.0 2021-01-18      1             6                 0   \n",
       "2           7.0 2021-04-20      4             6                 0   \n",
       "3          19.0 2021-08-11      8             6                 0   \n",
       "4          27.0 2021-08-28      8             6                 0   \n",
       "...         ...        ...    ...           ...               ...   \n",
       "18210      20.0 2021-11-04     11             8                50   \n",
       "18211      22.0 2021-11-16     11             8                50   \n",
       "18212      19.0 2021-11-18     11             8                50   \n",
       "18213      17.0 2021-11-27     11             8                50   \n",
       "18214      16.0 2021-12-29     12             8                50   \n",
       "\n",
       "       subscription_fee  distance_sum  duration_sum  number_of_rides  profit  \n",
       "0                   199  34070.182066         211.0               12  1465.0  \n",
       "1                   199  34070.182066         211.0               12  1465.0  \n",
       "2                   199  34070.182066         211.0               12  1465.0  \n",
       "3                   199  34070.182066         211.0               12  1465.0  \n",
       "4                   199  34070.182066         211.0               12  1465.0  \n",
       "...                 ...           ...           ...              ...     ...  \n",
       "18210                 0  41702.995378         229.0               12  2432.0  \n",
       "18211                 0  41702.995378         229.0               12  2432.0  \n",
       "18212                 0  41702.995378         229.0               12  2432.0  \n",
       "18213                 0  41702.995378         229.0               12  2432.0  \n",
       "18214                 0  41702.995378         229.0               12  2432.0  \n",
       "\n",
       "[18215 rows x 16 columns]"
      ]
     },
     "execution_count": 62,
     "metadata": {},
     "output_type": "execute_result"
    }
   ],
   "source": [
    "profit(result)"
   ]
  },
  {
   "cell_type": "code",
   "execution_count": 63,
   "id": "3221268a",
   "metadata": {},
   "outputs": [
    {
     "data": {
      "text/html": [
       "<div>\n",
       "<style scoped>\n",
       "    .dataframe tbody tr th:only-of-type {\n",
       "        vertical-align: middle;\n",
       "    }\n",
       "\n",
       "    .dataframe tbody tr th {\n",
       "        vertical-align: top;\n",
       "    }\n",
       "\n",
       "    .dataframe thead th {\n",
       "        text-align: right;\n",
       "    }\n",
       "</style>\n",
       "<table border=\"1\" class=\"dataframe\">\n",
       "  <thead>\n",
       "    <tr style=\"text-align: right;\">\n",
       "      <th></th>\n",
       "      <th>user_id</th>\n",
       "      <th>age</th>\n",
       "      <th>distance</th>\n",
       "      <th>duration</th>\n",
       "      <th>month</th>\n",
       "      <th>minute_price</th>\n",
       "      <th>start_ride_price</th>\n",
       "      <th>subscription_fee</th>\n",
       "      <th>distance_sum</th>\n",
       "      <th>duration_sum</th>\n",
       "      <th>number_of_rides</th>\n",
       "      <th>profit</th>\n",
       "    </tr>\n",
       "  </thead>\n",
       "  <tbody>\n",
       "    <tr>\n",
       "      <th>count</th>\n",
       "      <td>18215.000000</td>\n",
       "      <td>18215.000000</td>\n",
       "      <td>18215.000000</td>\n",
       "      <td>18215.000000</td>\n",
       "      <td>18215.000000</td>\n",
       "      <td>18215.000000</td>\n",
       "      <td>18215.000000</td>\n",
       "      <td>18215.000000</td>\n",
       "      <td>18215.000000</td>\n",
       "      <td>18215.000000</td>\n",
       "      <td>18215.000000</td>\n",
       "      <td>18215.000000</td>\n",
       "    </tr>\n",
       "    <tr>\n",
       "      <th>mean</th>\n",
       "      <td>836.146088</td>\n",
       "      <td>24.905792</td>\n",
       "      <td>3098.929442</td>\n",
       "      <td>18.483942</td>\n",
       "      <td>6.486302</td>\n",
       "      <td>7.267417</td>\n",
       "      <td>31.685424</td>\n",
       "      <td>72.892012</td>\n",
       "      <td>41791.123179</td>\n",
       "      <td>248.450288</td>\n",
       "      <td>13.485095</td>\n",
       "      <td>2384.899259</td>\n",
       "    </tr>\n",
       "    <tr>\n",
       "      <th>std</th>\n",
       "      <td>435.752016</td>\n",
       "      <td>4.569152</td>\n",
       "      <td>1082.730234</td>\n",
       "      <td>5.906509</td>\n",
       "      <td>3.436975</td>\n",
       "      <td>0.963607</td>\n",
       "      <td>24.090184</td>\n",
       "      <td>95.878932</td>\n",
       "      <td>15207.950106</td>\n",
       "      <td>88.189050</td>\n",
       "      <td>4.699103</td>\n",
       "      <td>1056.739684</td>\n",
       "    </tr>\n",
       "    <tr>\n",
       "      <th>min</th>\n",
       "      <td>1.000000</td>\n",
       "      <td>12.000000</td>\n",
       "      <td>200.034777</td>\n",
       "      <td>3.000000</td>\n",
       "      <td>1.000000</td>\n",
       "      <td>6.000000</td>\n",
       "      <td>0.000000</td>\n",
       "      <td>0.000000</td>\n",
       "      <td>5530.344048</td>\n",
       "      <td>35.000000</td>\n",
       "      <td>2.000000</td>\n",
       "      <td>409.000000</td>\n",
       "    </tr>\n",
       "    <tr>\n",
       "      <th>25%</th>\n",
       "      <td>475.000000</td>\n",
       "      <td>22.000000</td>\n",
       "      <td>2566.563078</td>\n",
       "      <td>14.000000</td>\n",
       "      <td>4.000000</td>\n",
       "      <td>6.000000</td>\n",
       "      <td>0.000000</td>\n",
       "      <td>0.000000</td>\n",
       "      <td>31659.886690</td>\n",
       "      <td>191.000000</td>\n",
       "      <td>10.000000</td>\n",
       "      <td>1513.500000</td>\n",
       "    </tr>\n",
       "    <tr>\n",
       "      <th>50%</th>\n",
       "      <td>881.000000</td>\n",
       "      <td>25.000000</td>\n",
       "      <td>3143.579446</td>\n",
       "      <td>18.000000</td>\n",
       "      <td>6.000000</td>\n",
       "      <td>8.000000</td>\n",
       "      <td>50.000000</td>\n",
       "      <td>0.000000</td>\n",
       "      <td>40322.715175</td>\n",
       "      <td>238.000000</td>\n",
       "      <td>13.000000</td>\n",
       "      <td>2314.000000</td>\n",
       "    </tr>\n",
       "    <tr>\n",
       "      <th>75%</th>\n",
       "      <td>1208.000000</td>\n",
       "      <td>28.000000</td>\n",
       "      <td>3781.936237</td>\n",
       "      <td>22.000000</td>\n",
       "      <td>9.000000</td>\n",
       "      <td>8.000000</td>\n",
       "      <td>50.000000</td>\n",
       "      <td>199.000000</td>\n",
       "      <td>49969.519925</td>\n",
       "      <td>296.000000</td>\n",
       "      <td>16.000000</td>\n",
       "      <td>3074.000000</td>\n",
       "    </tr>\n",
       "    <tr>\n",
       "      <th>max</th>\n",
       "      <td>1534.000000</td>\n",
       "      <td>43.000000</td>\n",
       "      <td>7211.007745</td>\n",
       "      <td>41.000000</td>\n",
       "      <td>12.000000</td>\n",
       "      <td>8.000000</td>\n",
       "      <td>50.000000</td>\n",
       "      <td>199.000000</td>\n",
       "      <td>132594.990640</td>\n",
       "      <td>772.000000</td>\n",
       "      <td>40.000000</td>\n",
       "      <td>8176.000000</td>\n",
       "    </tr>\n",
       "  </tbody>\n",
       "</table>\n",
       "</div>"
      ],
      "text/plain": [
       "            user_id           age      distance      duration         month  \\\n",
       "count  18215.000000  18215.000000  18215.000000  18215.000000  18215.000000   \n",
       "mean     836.146088     24.905792   3098.929442     18.483942      6.486302   \n",
       "std      435.752016      4.569152   1082.730234      5.906509      3.436975   \n",
       "min        1.000000     12.000000    200.034777      3.000000      1.000000   \n",
       "25%      475.000000     22.000000   2566.563078     14.000000      4.000000   \n",
       "50%      881.000000     25.000000   3143.579446     18.000000      6.000000   \n",
       "75%     1208.000000     28.000000   3781.936237     22.000000      9.000000   \n",
       "max     1534.000000     43.000000   7211.007745     41.000000     12.000000   \n",
       "\n",
       "       minute_price  start_ride_price  subscription_fee   distance_sum  \\\n",
       "count  18215.000000      18215.000000      18215.000000   18215.000000   \n",
       "mean       7.267417         31.685424         72.892012   41791.123179   \n",
       "std        0.963607         24.090184         95.878932   15207.950106   \n",
       "min        6.000000          0.000000          0.000000    5530.344048   \n",
       "25%        6.000000          0.000000          0.000000   31659.886690   \n",
       "50%        8.000000         50.000000          0.000000   40322.715175   \n",
       "75%        8.000000         50.000000        199.000000   49969.519925   \n",
       "max        8.000000         50.000000        199.000000  132594.990640   \n",
       "\n",
       "       duration_sum  number_of_rides        profit  \n",
       "count  18215.000000     18215.000000  18215.000000  \n",
       "mean     248.450288        13.485095   2384.899259  \n",
       "std       88.189050         4.699103   1056.739684  \n",
       "min       35.000000         2.000000    409.000000  \n",
       "25%      191.000000        10.000000   1513.500000  \n",
       "50%      238.000000        13.000000   2314.000000  \n",
       "75%      296.000000        16.000000   3074.000000  \n",
       "max      772.000000        40.000000   8176.000000  "
      ]
     },
     "execution_count": 63,
     "metadata": {},
     "output_type": "execute_result"
    }
   ],
   "source": [
    "result.describe()"
   ]
  },
  {
   "cell_type": "markdown",
   "id": "3e76f99e",
   "metadata": {},
   "source": [
    "# 7. Проверка гипотез"
   ]
  },
  {
   "cell_type": "markdown",
   "id": "0b746380",
   "metadata": {},
   "source": [
    "## 7.1 Пользователи с подпиской тратят больше времени на поездки? "
   ]
  },
  {
   "cell_type": "code",
   "execution_count": 64,
   "id": "0c2edad1",
   "metadata": {},
   "outputs": [
    {
     "name": "stdout",
     "output_type": "stream",
     "text": [
      "Медианное время пользователей без подписки: 18.170233041670276\n"
     ]
    }
   ],
   "source": [
    "print('Медианное время пользователей без подписки:', result[result['subscription_fee'] == 0].duration.mean())"
   ]
  },
  {
   "cell_type": "code",
   "execution_count": 65,
   "id": "4887b4f6",
   "metadata": {},
   "outputs": [
    {
     "name": "stdout",
     "output_type": "stream",
     "text": [
      "Медианное  время пользователей c подпиской: 19.026678657074342\n"
     ]
    }
   ],
   "source": [
    "print('Медианное  время пользователей c подпиской:', result[result['subscription_fee'] != 0].duration.mean())"
   ]
  },
  {
   "cell_type": "code",
   "execution_count": 66,
   "id": "d6110b53",
   "metadata": {},
   "outputs": [
    {
     "data": {
      "image/png": "[encoded data removed]",
      "text/plain": [
       "<Figure size 432x288 with 1 Axes>"
      ]
     },
     "metadata": {
      "needs_background": "light"
     },
     "output_type": "display_data"
    }
   ],
   "source": [
    "fig, ax  = plt.subplots()\n",
    "ax.bar([1, 3], [result[result['subscription_type'] == 'free'].\n",
    "            duration.sum(), result[result['subscription_type'] == 'ultra'].duration.sum()], width=1,\n",
    "       tick_label=['без подписки', 'c подпиской'], align='center')\n",
    "plt.xticks(rotation=90);\n",
    "plt.title('Время поездок');"
   ]
  },
  {
   "cell_type": "code",
   "execution_count": 67,
   "id": "f2aa97c6",
   "metadata": {},
   "outputs": [
    {
     "name": "stdout",
     "output_type": "stream",
     "text": [
      "p-value: 3.7411049897894494e-21\n",
      "Отвергаем нулевую гипотезу\n"
     ]
    }
   ],
   "source": [
    "alpha = 0.05 \n",
    "\n",
    "results = (st.ttest_ind(result[result['subscription_type'] == 'ultra'].duration, \n",
    "                        result[result['subscription_type'] == 'free'].duration, \n",
    "                        alternative='two-sided'))\n",
    "\n",
    "print(f'p-value: {results.pvalue}')\n",
    "\n",
    "if results.pvalue < alpha:\n",
    "    print('Отвергаем нулевую гипотезу')\n",
    "else:\n",
    "    print('Нет оснований отвергнуть нулевую гипотезу')"
   ]
  },
  {
   "cell_type": "markdown",
   "id": "cc415b20",
   "metadata": {},
   "source": [
    "Суммарное время пользователей без почти в 2 раза больше. Проверим какие пользователи выгоднее"
   ]
  },
  {
   "cell_type": "code",
   "execution_count": 68,
   "id": "766da5e0",
   "metadata": {},
   "outputs": [
    {
     "name": "stdout",
     "output_type": "stream",
     "text": [
      "Выручка от пользователя c подпиской: 1436.101618705036\n"
     ]
    }
   ],
   "source": [
    "print('Выручка от пользователя c подпиской:', result[result['subscription_type'] == 'ultra'].profit.mean())"
   ]
  },
  {
   "cell_type": "code",
   "execution_count": 69,
   "id": "25a21b4d",
   "metadata": {},
   "outputs": [
    {
     "name": "stdout",
     "output_type": "stream",
     "text": [
      "Выручка от пользователя без подписки: 2933.3162955904013\n"
     ]
    }
   ],
   "source": [
    "print('Выручка от пользователя без подписки:', result[result['subscription_type'] == 'free'].profit.mean())"
   ]
  },
  {
   "cell_type": "code",
   "execution_count": 70,
   "id": "6e91c433",
   "metadata": {},
   "outputs": [
    {
     "data": {
      "image/png": "[encoded data removed]",
      "text/plain": [
       "<Figure size 432x288 with 1 Axes>"
      ]
     },
     "metadata": {
      "needs_background": "light"
     },
     "output_type": "display_data"
    }
   ],
   "source": [
    "fig, ax  = plt.subplots()\n",
    "ax.bar([1, 3], [result[result['subscription_type'] == 'ultra'].profit.mean(),\n",
    "       result[result['subscription_type'] == 'free'].profit.mean()], width=1,\n",
    "       tick_label=['c подпиской', 'без подписки'], align='center')\n",
    "plt.xticks(rotation=90);\n",
    "plt.title('Выручка от пользователей');"
   ]
  },
  {
   "cell_type": "markdown",
   "id": "00c81bd6",
   "metadata": {},
   "source": [
    "**Вывод:** Пользователи с подпиской приносят меньше денег из-за их меньшего количества. Медианное время для пользователя с подпиской и без практически одинаково. Гипотеза не подтвердилась"
   ]
  },
  {
   "cell_type": "markdown",
   "id": "3f541a3c",
   "metadata": {},
   "source": [
    "## 7.2 Расстояние одной поездки в среднем не превышает 3130 метров"
   ]
  },
  {
   "cell_type": "code",
   "execution_count": 71,
   "id": "67358deb",
   "metadata": {},
   "outputs": [
    {
     "data": {
      "image/png": "[encoded data removed]",
      "text/plain": [
       "<Figure size 432x288 with 1 Axes>"
      ]
     },
     "metadata": {
      "needs_background": "light"
     },
     "output_type": "display_data"
    }
   ],
   "source": [
    "result.distance.hist(bins = 300);"
   ]
  },
  {
   "cell_type": "code",
   "execution_count": 72,
   "id": "1ceed93b",
   "metadata": {},
   "outputs": [
    {
     "data": {
      "text/plain": [
       "count    18215.000000\n",
       "mean      3098.929442\n",
       "std       1082.730234\n",
       "min        200.034777\n",
       "25%       2566.563078\n",
       "50%       3143.579446\n",
       "75%       3781.936237\n",
       "max       7211.007745\n",
       "Name: distance, dtype: float64"
      ]
     },
     "execution_count": 72,
     "metadata": {},
     "output_type": "execute_result"
    }
   ],
   "source": [
    "result.distance.describe()"
   ]
  },
  {
   "cell_type": "code",
   "execution_count": 73,
   "id": "be69acc8",
   "metadata": {},
   "outputs": [
    {
     "data": {
      "text/plain": [
       "3105.9430758817907"
      ]
     },
     "execution_count": 73,
     "metadata": {},
     "output_type": "execute_result"
    }
   ],
   "source": [
    "result.distance.mode().mean()"
   ]
  },
  {
   "cell_type": "code",
   "execution_count": 74,
   "id": "caa3aa08",
   "metadata": {},
   "outputs": [
    {
     "name": "stdout",
     "output_type": "stream",
     "text": [
      "p-значение: 0.00010789589321770272\n",
      "Отвергаем гипотезу\n"
     ]
    }
   ],
   "source": [
    "optimal_value = 3130 \n",
    "\n",
    "alpha = 0.05 \n",
    "\n",
    "results = st.ttest_1samp(\n",
    "    result.distance, \n",
    "    optimal_value)\n",
    "\n",
    "print('p-значение:', results.pvalue)\n",
    "\n",
    "if results.pvalue < alpha:\n",
    "    print('Отвергаем гипотезу')\n",
    "else:\n",
    "    print('Не получилось отвергнуть гипотезу')"
   ]
  },
  {
   "cell_type": "markdown",
   "id": "80033090",
   "metadata": {},
   "source": [
    "**Вывод**: Хотя среднее расстояние поездки не превышает 3130 метров, гипотезу отвергаем "
   ]
  },
  {
   "cell_type": "markdown",
   "id": "122735b1",
   "metadata": {},
   "source": [
    "## 7.3 Помесячная выручка от пользователей с подпиской по месяцам выше, чем выручка от пользователей без подписки. "
   ]
  },
  {
   "cell_type": "markdown",
   "id": "5227b1aa",
   "metadata": {},
   "source": [
    "Посмотрим как менялась выручка по месяцам от разных категорий пользователей"
   ]
  },
  {
   "cell_type": "code",
   "execution_count": 75,
   "id": "b7eef413",
   "metadata": {},
   "outputs": [
    {
     "data": {
      "text/plain": [
       "Text(0, 0.5, 'profit')"
      ]
     },
     "execution_count": 75,
     "metadata": {},
     "output_type": "execute_result"
    },
    {
     "data": {
      "image/png": "[encoded data removed]",
      "text/plain": [
       "<Figure size 432x288 with 1 Axes>"
      ]
     },
     "metadata": {
      "needs_background": "light"
     },
     "output_type": "display_data"
    }
   ],
   "source": [
    "ultra_per_month = (result[result['subscription_type'] == 'ultra']\n",
    "                   .pivot_table(index = 'month', values= 'profit')\n",
    "                   .reset_index(drop= False));\n",
    "\n",
    "ultra_per_month.plot(x='month', y='profit' ,kind= 'line');\n",
    "plt.xlabel('month', fontsize = 16)\n",
    "plt.ylabel('profit', fontsize = 16)"
   ]
  },
  {
   "cell_type": "code",
   "execution_count": 76,
   "id": "0bfdebd0",
   "metadata": {},
   "outputs": [
    {
     "data": {
      "text/plain": [
       "Text(0, 0.5, 'profit')"
      ]
     },
     "execution_count": 76,
     "metadata": {},
     "output_type": "execute_result"
    },
    {
     "data": {
      "image/png": "[encoded data removed]",
      "text/plain": [
       "<Figure size 432x288 with 1 Axes>"
      ]
     },
     "metadata": {
      "needs_background": "light"
     },
     "output_type": "display_data"
    }
   ],
   "source": [
    "free_per_month = (result[result['subscription_type'] == 'free']\n",
    "                   .pivot_table(index = 'month', values= 'profit')\n",
    "                   .reset_index(drop= False));\n",
    "\n",
    "free_per_month.plot(x='month', y='profit' ,kind= 'line');\n",
    "plt.xlabel('month', fontsize = 16)\n",
    "plt.ylabel('profit', fontsize = 16)"
   ]
  },
  {
   "cell_type": "markdown",
   "id": "eab45ef9",
   "metadata": {},
   "source": [
    "Динамика по типу подписки совершенно разная"
   ]
  },
  {
   "cell_type": "code",
   "execution_count": 77,
   "id": "5a4968d2",
   "metadata": {},
   "outputs": [
    {
     "data": {
      "image/png": "[encoded data removed]",
      "text/plain": [
       "<Figure size 432x288 with 1 Axes>"
      ]
     },
     "metadata": {
      "needs_background": "light"
     },
     "output_type": "display_data"
    }
   ],
   "source": [
    "plot_profit = pd.DataFrame({'free': free_per_month.profit,\n",
    "                   'ultra': ultra_per_month.profit}, index=ultra_per_month.month)\n",
    "ax = plot_profit.plot.bar(rot=0)"
   ]
  },
  {
   "cell_type": "code",
   "execution_count": 78,
   "id": "66baffec",
   "metadata": {},
   "outputs": [
    {
     "name": "stdout",
     "output_type": "stream",
     "text": [
      "p-value: 9.760913010303866e-35\n",
      "Отвергаем нулевую гипотезу\n"
     ]
    }
   ],
   "source": [
    "alpha = 0.05 \n",
    "\n",
    "results = (st.ttest_ind(ultra_per_month.profit, \n",
    "                        free_per_month.profit, \n",
    "                        alternative='two-sided'))\n",
    "\n",
    "print(f'p-value: {results.pvalue}')\n",
    "\n",
    "if results.pvalue < alpha:\n",
    "    print('Отвергаем нулевую гипотезу')\n",
    "else:\n",
    "    print('Нет оснований отвергнуть нулевую гипотезу')"
   ]
  },
  {
   "cell_type": "markdown",
   "id": "0f67844f",
   "metadata": {},
   "source": [
    "**Вывод**: Гипотеза не подтвердилась. По каждому месяцу у пользователей с подпиской выручка меньше чем у пользователей без подписки"
   ]
  },
  {
   "cell_type": "markdown",
   "id": "2eca7463",
   "metadata": {},
   "source": [
    "## 7.4. Текстовый вопрос"
   ]
  },
  {
   "cell_type": "markdown",
   "id": "3233ec22",
   "metadata": {},
   "source": [
    "**Вопрос:**\n",
    "Представьте такую ситуацию: техническая команда сервиса обновила сервера, с которыми взаимодействует мобильное приложение. Она надеется, что из-за этого количество обращений в техподдержку значимо снизилось. Некоторый файл содержит для каждого пользователя данные о количестве обращений до обновления и после него. Какой тест вам понадобился бы для проверки этой гипотезы?"
   ]
  },
  {
   "cell_type": "markdown",
   "id": "43e9b91a",
   "metadata": {},
   "source": [
    "**Ответ:**\n",
    "По сути это проверка равенства среднего значения генеральной совокупности до и после изменения. Необходимо провести Т-тест для парной выборки (scipy.stats.ttest_rel)"
   ]
  },
  {
   "cell_type": "markdown",
   "id": "d47df680",
   "metadata": {},
   "source": [
    "# 8. Общий вывод"
   ]
  },
  {
   "cell_type": "markdown",
   "id": "5a2717a6",
   "metadata": {},
   "source": [
    "#### 8.1. Цель работы: "
   ]
  },
  {
   "cell_type": "markdown",
   "id": "cb246856",
   "metadata": {},
   "source": [
    "Выполнить анализ данных некоторых пользователях из нескольких городов, а также об их поездках сервиса аренды самокатов GoFast Проанализировать данные и проверить некоторые гипотезы, которые могут помочь бизнесу вырасти."
   ]
  },
  {
   "cell_type": "markdown",
   "id": "4a99c97c",
   "metadata": {},
   "source": [
    "Проверяемые гипотезы:\n",
    "\n",
    "- Пользователи с подпиской тратят больше времени на поездки.\n",
    "- Пользователи с подпиской могут «выгоднее» для компании.\n",
    "- Среднее расстояние одной поездки - 3130 м\n",
    "- Помесячная выручка от пользователей с подпиской по месяцам выше, чем выручка от пользователей без подписки\n"
   ]
  },
  {
   "cell_type": "markdown",
   "id": "0e78154a",
   "metadata": {},
   "source": [
    "##### 8.2. Анализ и предобработка данных представленного датасета"
   ]
  },
  {
   "cell_type": "markdown",
   "id": "488e992d",
   "metadata": {},
   "source": [
    "В ходе анализа и предобработки данных было выявлено следующее:\n",
    "\n",
    "    - неверный тип переменны в столбце date\n",
    "    - В столбце duration есть весомое количество значений 0.5 мин (95)\n",
    "\n",
    "Скорее всего это результат ошибки при конвертации между ПО"
   ]
  },
  {
   "cell_type": "markdown",
   "id": "de71e5e7",
   "metadata": {},
   "source": [
    "Тип переменных в столбце date был изменен на datetime, значения продолжительности поездки в 0.5 минут были заполнены медианными значениями"
   ]
  },
  {
   "cell_type": "markdown",
   "id": "d97d68a8",
   "metadata": {},
   "source": [
    "Так же столбец users_id был проверен на наличие неявных дубликатов (несколько аккаунтов на одного пользователя).  \n",
    "В ходе проверки выяснилось, что доля данных аккаунтов очень мала"
   ]
  },
  {
   "cell_type": "markdown",
   "id": "f23bb519",
   "metadata": {},
   "source": [
    "Пропущенных значений в ходе анализа не обнаружено."
   ]
  },
  {
   "cell_type": "markdown",
   "id": "2164d92d",
   "metadata": {},
   "source": [
    "##### 8.3. Исследовательский анализ данных"
   ]
  },
  {
   "cell_type": "markdown",
   "id": "9f4e9eec",
   "metadata": {},
   "source": [
    "В ходе исследовательского анализа данных была описана и  визуализирована общая информация о пользователях и поездках.\n",
    "Выводы и гистограммы даны в пункте4"
   ]
  },
  {
   "cell_type": "markdown",
   "id": "32260a37",
   "metadata": {},
   "source": [
    "##### 8.4. Проверка гипотез"
   ]
  },
  {
   "cell_type": "markdown",
   "id": "a68a313a",
   "metadata": {},
   "source": [
    "**Гипотеза 1.** Пользователи с подпиской тратят больше времени на поездки."
   ]
  },
  {
   "cell_type": "code",
   "execution_count": 79,
   "id": "19c3847f",
   "metadata": {},
   "outputs": [
    {
     "ename": "SyntaxError",
     "evalue": "invalid syntax (811565515.py, line 1)",
     "output_type": "error",
     "traceback": [
      "\u001b[1;36m  Input \u001b[1;32mIn [79]\u001b[1;36m\u001b[0m\n\u001b[1;33m    Гипотеза не подтвердилась. Суммарно пользователи без подписки тратят больше времени на поездки чем пользователи с подпиской\u001b[0m\n\u001b[1;37m             ^\u001b[0m\n\u001b[1;31mSyntaxError\u001b[0m\u001b[1;31m:\u001b[0m invalid syntax\n"
     ]
    }
   ],
   "source": [
    "Гипотеза не подтвердилась. Суммарно пользователи без подписки тратят больше времени на поездки чем пользователи с подпиской  \n",
    "(так как пользователей с подпиской больше). "
   ]
  },
  {
   "attachments": {
    "image.png": {
     "image/png": "[encoded data removed]"
    }
   },
   "cell_type": "markdown",
   "id": "df1175d3",
   "metadata": {},
   "source": [
    "![image.png](attachment:image.png)"
   ]
  },
  {
   "cell_type": "markdown",
   "id": "4d296f02",
   "metadata": {},
   "source": [
    "**Гипотеза 2.** Пользователи с подпиской \"выгоднее\" чем без"
   ]
  },
  {
   "cell_type": "markdown",
   "id": "b3441b52",
   "metadata": {},
   "source": [
    "Гипотеза не подтвердилась. Выручка от пользователей с без подписи в среднем больше"
   ]
  },
  {
   "attachments": {
    "image.png": {
     "image/png": "[encoded data removed]"
    }
   },
   "cell_type": "markdown",
   "id": "d99c87d9",
   "metadata": {},
   "source": [
    "![image.png](attachment:image.png)"
   ]
  },
  {
   "cell_type": "markdown",
   "id": "9323ae0a",
   "metadata": {},
   "source": [
    "**Гипотеза 3.** Среднее расстояние одной поездки - 3130 м"
   ]
  },
  {
   "attachments": {
    "image.png": {
     "image/png": "[encoded data removed]"
    }
   },
   "cell_type": "markdown",
   "id": "e82b0d62",
   "metadata": {},
   "source": [
    "![image.png](attachment:image.png)"
   ]
  },
  {
   "cell_type": "markdown",
   "id": "bb8905c0",
   "metadata": {},
   "source": [
    "Хотя медианное значение меньше 3130 метров, гипотезу отвергаем так как не прошла Т-тест"
   ]
  },
  {
   "cell_type": "markdown",
   "id": "3fbab50d",
   "metadata": {},
   "source": [
    "**Гипотеза 4** Помесячная выручка от пользователей с подпиской по месяцам выше, чем выручка от пользователей без подписки"
   ]
  },
  {
   "attachments": {
    "image.png": {
     "image/png": "[encoded data removed]"
    }
   },
   "cell_type": "markdown",
   "id": "6372ef08",
   "metadata": {},
   "source": [
    "![image.png](attachment:image.png)"
   ]
  },
  {
   "cell_type": "markdown",
   "id": "0ee24201",
   "metadata": {},
   "source": [
    "Гипотезу отвергаем. Выручка от пользователей без подписки выше"
   ]
  }
 ],
 "metadata": {
  "kernelspec": {
   "display_name": "Python 3 (ipykernel)",
   "language": "python",
   "name": "python3"
  },
  "language_info": {
   "codemirror_mode": {
    "name": "ipython",
    "version": 3
   },
   "file_extension": ".py",
   "mimetype": "text/x-python",
   "name": "python",
   "nbconvert_exporter": "python",
   "pygments_lexer": "ipython3",
   "version": "3.9.12"
  }
 },
 "nbformat": 4,
 "nbformat_minor": 5
}
