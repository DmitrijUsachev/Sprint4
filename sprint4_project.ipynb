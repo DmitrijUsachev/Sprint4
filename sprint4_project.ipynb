{
 "cells": [
  {
   "cell_type": "markdown",
   "id": "605120a7",
   "metadata": {},
   "source": [
    "# 1. Постановка задачи"
   ]
  },
  {
   "cell_type": "markdown",
   "id": "804ac326",
   "metadata": {},
   "source": [
    "Требуется выполнить анализ данных некоторых пользователях из нескольких городов, а также об их поездках сервиса аренды самокатов GoFast Проанализировать данные и проверить некоторые гипотезы, которые могут помочь бизнесу вырасти."
   ]
  },
  {
   "cell_type": "markdown",
   "id": "1fd3c710",
   "metadata": {},
   "source": [
    "Чтобы совершать поездки по городу, пользователи сервиса GoFast пользуются мобильным приложением. Сервисом можно пользоваться:  \n",
    "   - без подписки:  \n",
    "            абонентская плата отсутствует;\n",
    "            стоимость одной минуты поездки — 8 рублей;\n",
    "            стоимость старта (начала поездки) — 50 рублей;\n",
    "\n",
    "\n",
    "   - с подпиской Ultra: \n",
    "            абонентская плата — 199 рублей в месяц;\n",
    "            стоимость одной минуты поездки — 6 рублей;\n",
    "            стоимость старта — бесплатно."
   ]
  },
  {
   "cell_type": "markdown",
   "id": "4219164c",
   "metadata": {},
   "source": [
    "**Описание данных**  "
   ]
  },
  {
   "cell_type": "markdown",
   "id": "89f96073",
   "metadata": {},
   "source": [
    "В основных данных есть информация о пользователях, их поездках и подписках.\n",
    "\n",
    "**Пользователи — users_go.csv**    \n",
    "  \n",
    "user_id\t- уникальный идентификатор пользователя  \n",
    "name - имя пользователя  \n",
    "age - возраст  \n",
    "city - город  \n",
    "subscription_type - тип подписки (free, ultra)  "
   ]
  },
  {
   "cell_type": "markdown",
   "id": "909eddad",
   "metadata": {},
   "source": [
    "**Поездки — rides_go.csv**\n",
    "\n",
    "user_id - уникальный идентификатор пользователя  \n",
    "distance - расстояние, которое пользователь проехал в текущей сессии (в метрах)  \n",
    "duration - продолжительность сессии (в минутах) — время с того момента, как пользователь нажал кнопку «Начать поездку» до момента, как он нажал кнопку «Завершить поездку»  \n",
    "date - дата совершения поездки  "
   ]
  },
  {
   "cell_type": "markdown",
   "id": "8d1d3cb0",
   "metadata": {},
   "source": [
    "**Подписки — subscriptions_go.csv**  \n",
    "\n",
    "subscription_type - тип подписки  \n",
    "minute_price-стоимость одной минуты поездки по данной подписке  \n",
    "start_ride_price-стоимость начала поездки  \n",
    "subscription_fee-стоимость ежемесячного платежа  "
   ]
  },
  {
   "cell_type": "markdown",
   "id": "54825300",
   "metadata": {},
   "source": [
    "# 2. Загрузка данных"
   ]
  },
  {
   "cell_type": "code",
   "execution_count": null,
   "id": "2460b2f6",
   "metadata": {},
   "outputs": [],
   "source": [
    "import pandas as pd\n",
    "import matplotlib.pyplot as plt\n",
    "import seaborn as sns"
   ]
  },
  {
   "cell_type": "code",
   "execution_count": null,
   "id": "29cf6724",
   "metadata": {},
   "outputs": [],
   "source": []
  }
 ],
 "metadata": {
  "kernelspec": {
   "display_name": "Python 3 (ipykernel)",
   "language": "python",
   "name": "python3"
  },
  "language_info": {
   "codemirror_mode": {
    "name": "ipython",
    "version": 3
   },
   "file_extension": ".py",
   "mimetype": "text/x-python",
   "name": "python",
   "nbconvert_exporter": "python",
   "pygments_lexer": "ipython3",
   "version": "3.9.12"
  }
 },
 "nbformat": 4,
 "nbformat_minor": 5
}
